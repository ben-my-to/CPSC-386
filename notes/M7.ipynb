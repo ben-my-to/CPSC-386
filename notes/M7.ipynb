{
 "cells": [
  {
   "cell_type": "markdown",
   "id": "b0bfc8b7",
   "metadata": {},
   "source": [
    " # Python Tutorial\n",
    " - **Features**\n",
    "     - very-high-level interpreted (no compilation/linking) language\n",
    " - **Pros**\n",
    "     - allows programs to be split into modules\n",
    "     - more error checking\n",
    "     - compact + readability\n",
    "         1. __data-types__: express complex operations in a single statement\n",
    "         2. __indentation__: no need for curly-braces\n",
    "         3. __declarations__: not needed for variables/arguments\n",
    "     - extensible\n",
    "         - can add *built in function/module* to the interpreter\n",
    "         - can link python programs to libraries\n",
    " - **Location:** ```bash /usr/local/bin/python3```\n",
    " - **Interpreter**\n",
    "      - reads + executes commands interactively\n",
    "      - arguments and modules are assigned to the *argv* in the *sys* module\n",
    "          - ```python sys.argv[0]```\n",
    "      - **Invoke:**\n",
    "      ```bash\n",
    "      python3\n",
    "      python3 -c command [arg] # executes statement(s) in command\n",
    "      python3 -i -m module [arg]  # executes the source file for module and enters interactive mode\n",
    "      ```"
   ]
  },
  {
   "cell_type": "markdown",
   "id": "50dfb8e4",
   "metadata": {},
   "source": [
    "## New Arithmetic"
   ]
  },
  {
   "cell_type": "code",
   "execution_count": 4,
   "id": "ce465fae",
   "metadata": {},
   "outputs": [
    {
     "data": {
      "text/plain": [
       "14"
      ]
     },
     "execution_count": 4,
     "metadata": {},
     "output_type": "execute_result"
    }
   ],
   "source": [
    "# Using the '_' keyword\n",
    "\n",
    "3 + 4\n",
    "_ + _"
   ]
  },
  {
   "cell_type": "markdown",
   "id": "fd881e99",
   "metadata": {},
   "source": [
    "## Strings"
   ]
  },
  {
   "cell_type": "code",
   "execution_count": null,
   "id": "3f83c4fa",
   "metadata": {},
   "outputs": [],
   "source": [
    "#_______________QUOTES_______________"
   ]
  },
  {
   "cell_type": "code",
   "execution_count": 15,
   "id": "c49f547b",
   "metadata": {},
   "outputs": [
    {
     "data": {
      "text/plain": [
       "'\"H\\'\\nI\"'"
      ]
     },
     "execution_count": 15,
     "metadata": {},
     "output_type": "execute_result"
    }
   ],
   "source": [
    "'\"H\\'\\nI\"' # \\' escape character is represented inside double-quotes enclosed in single-quotes"
   ]
  },
  {
   "cell_type": "code",
   "execution_count": 18,
   "id": "128714a4",
   "metadata": {},
   "outputs": [
    {
     "name": "stdout",
     "output_type": "stream",
     "text": [
      "\"H'\n",
      "I\"\n"
     ]
    }
   ],
   "source": [
    "print('\"H\\'\\nI\"') # \\' and \\n is visible"
   ]
  },
  {
   "cell_type": "code",
   "execution_count": null,
   "id": "dd7075ec",
   "metadata": {},
   "outputs": [],
   "source": [
    "#_______________LITERALS_______________"
   ]
  },
  {
   "cell_type": "code",
   "execution_count": 23,
   "id": "1a0a9f1e",
   "metadata": {},
   "outputs": [
    {
     "name": "stdout",
     "output_type": "stream",
     "text": [
      "Multi-Line\n",
      "String Literal\n"
     ]
    }
   ],
   "source": [
    "# EOL characters are included in \"\"\"...\"\"\" string literals\n",
    "\n",
    "print(\"\"\"\\\n",
    "Multi-Line\n",
    "String Literal\"\"\")"
   ]
  },
  {
   "cell_type": "code",
   "execution_count": 33,
   "id": "b501512a",
   "metadata": {},
   "outputs": [
    {
     "name": "stdout",
     "output_type": "stream",
     "text": [
      "concatenate\n",
      "hello world\n"
     ]
    }
   ],
   "source": [
    "print('con' 'cat' 'enate') # concat string literals\n",
    "a, b = 'hello ', 'world'\n",
    "print(a + b) # concat variable strings"
   ]
  },
  {
   "cell_type": "code",
   "execution_count": 34,
   "id": "d302fca8",
   "metadata": {},
   "outputs": [],
   "source": [
    "#_______________SLICING_______________"
   ]
  },
  {
   "cell_type": "code",
   "execution_count": 36,
   "id": "34ba35dc",
   "metadata": {},
   "outputs": [
    {
     "data": {
      "text/plain": [
       "'he'"
      ]
     },
     "execution_count": 36,
     "metadata": {},
     "output_type": "execute_result"
    }
   ],
   "source": [
    "word = 'hello'\n",
    "word[0:2] # sub-string in range(0, 2)"
   ]
  },
  {
   "cell_type": "markdown",
   "id": "55cdd905",
   "metadata": {},
   "source": [
    "## RAW STRINGS - does not interpret special characters"
   ]
  },
  {
   "cell_type": "code",
   "execution_count": 17,
   "id": "b5c9bd7f",
   "metadata": {},
   "outputs": [
    {
     "name": "stdout",
     "output_type": "stream",
     "text": [
      "~\\home\\student\n"
     ]
    }
   ],
   "source": [
    "print(r'~\\home\\student')"
   ]
  },
  {
   "cell_type": "code",
   "execution_count": null,
   "id": "2fab2d5b",
   "metadata": {},
   "outputs": [],
   "source": []
  }
 ],
 "metadata": {
  "kernelspec": {
   "display_name": "Python 3 (ipykernel)",
   "language": "python",
   "name": "python3"
  },
  "language_info": {
   "codemirror_mode": {
    "name": "ipython",
    "version": 3
   },
   "file_extension": ".py",
   "mimetype": "text/x-python",
   "name": "python",
   "nbconvert_exporter": "python",
   "pygments_lexer": "ipython3",
   "version": "3.8.10"
  }
 },
 "nbformat": 4,
 "nbformat_minor": 5
}
