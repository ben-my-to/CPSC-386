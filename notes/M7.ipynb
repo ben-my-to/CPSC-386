{
 "cells": [
  {
   "cell_type": "markdown",
   "id": "b0bfc8b7",
   "metadata": {},
   "source": [
    " # Python Tutorial\n",
    " * **Features**\n",
    "     * very-high-level interpreted (no compilation/linking) language\n",
    " * **Pros**\n",
    "     * allows programs to be split into modules\n",
    "     * more error checking\n",
    "     * compact + readability\n",
    "         1. __data-types__: express complex operations in a single statement\n",
    "         2. __indentation__: no need for curly-braces\n",
    "         3. __declarations__: not needed for variables/arguments\n",
    "     * extensible\n",
    "         * can add *built in function/module* to the interpreter\n",
    "         * can link python programs to libraries\n",
    " * **Location:** ```bash /usr/local/bin/python3```\n",
    " * **Interpreter**\n",
    "      - reads + executes commands interactively\n",
    "      - arguments and modules are assigned to the *argv* in the *sys* module\n",
    "          - ```python sys.argv[0]```\n",
    "      - **Invoke (Run):**`\n",
    "          * ```python3 -c command [arg] # executes statement(s) in command```\n",
    "          * ```bash python3 -i -m module [arg]  # executes the source file for module and enters interactive mode```"
   ]
  },
  {
   "cell_type": "markdown",
   "id": "50dfb8e4",
   "metadata": {},
   "source": [
    "## New Arithmetic"
   ]
  },
  {
   "cell_type": "code",
   "execution_count": 21,
   "id": "ce465fae",
   "metadata": {},
   "outputs": [
    {
     "data": {
      "text/plain": [
       "14"
      ]
     },
     "execution_count": 21,
     "metadata": {},
     "output_type": "execute_result"
    }
   ],
   "source": [
    "# Using the '_' keyword\n",
    "\n",
    "3 + 4\n",
    "_ + _"
   ]
  },
  {
   "cell_type": "markdown",
   "id": "fd881e99",
   "metadata": {},
   "source": [
    "## Strings\n",
    "* are immutable (cannot modify characters)"
   ]
  },
  {
   "cell_type": "code",
   "execution_count": 2,
   "id": "3f83c4fa",
   "metadata": {},
   "outputs": [],
   "source": [
    "#_______________QUOTES_______________"
   ]
  },
  {
   "cell_type": "code",
   "execution_count": 3,
   "id": "c49f547b",
   "metadata": {},
   "outputs": [
    {
     "data": {
      "text/plain": [
       "'\"Bob\\'s\\nDrink\"'"
      ]
     },
     "execution_count": 3,
     "metadata": {},
     "output_type": "execute_result"
    }
   ],
   "source": [
    "# \\' escape character is represented inside\n",
    "# double-quotes enclosed in single-quotes\n",
    "'\"Bob\\'s\\nDrink\"'"
   ]
  },
  {
   "cell_type": "code",
   "execution_count": 4,
   "id": "128714a4",
   "metadata": {},
   "outputs": [
    {
     "name": "stdout",
     "output_type": "stream",
     "text": [
      "\"Bob's\n",
      "Drink\"\n",
      "Quote: \"Life is Beautiful\"\n"
     ]
    }
   ],
   "source": [
    "print('\"Bob\\'s\\nDrink\"')              # \\' and \\n is visible\n",
    "print(\"Quote: \\\"Life is Beautiful\\\"\") # escape \\\" character"
   ]
  },
  {
   "cell_type": "code",
   "execution_count": 5,
   "id": "dd7075ec",
   "metadata": {},
   "outputs": [],
   "source": [
    "#_______________LITERALS_______________"
   ]
  },
  {
   "cell_type": "code",
   "execution_count": 6,
   "id": "1a0a9f1e",
   "metadata": {},
   "outputs": [
    {
     "name": "stdout",
     "output_type": "stream",
     "text": [
      "Todo:\n",
      "    - clean\n",
      "    - dishes\n"
     ]
    }
   ],
   "source": [
    "# EOL characters are included in \"\"\"...\"\"\" string literals\n",
    "\n",
    "print(\"\"\"\\\n",
    "Todo:\n",
    "    - clean\n",
    "    - dishes\"\"\")"
   ]
  },
  {
   "cell_type": "code",
   "execution_count": 7,
   "id": "b501512a",
   "metadata": {},
   "outputs": [
    {
     "name": "stdout",
     "output_type": "stream",
     "text": [
      "concatenate\n",
      "hello world\n"
     ]
    }
   ],
   "source": [
    "print('con' 'cat' 'enate') # concat string literals\n",
    "a, b = 'hello ', 'world'\n",
    "print(a + b) # concat variable strings"
   ]
  },
  {
   "cell_type": "code",
   "execution_count": 8,
   "id": "d302fca8",
   "metadata": {},
   "outputs": [],
   "source": [
    "#_______________SLICING_______________\n",
    "\n",
    "#    +---+---+---+---+---+---+\n",
    "#    | P | y | t | h | o | n |\n",
    "#    +---+---+---+---+---+---+\n",
    "#    0   1   2   3   4   5   6\n",
    "#    6  -5  -4  -3  -2  -1"
   ]
  },
  {
   "cell_type": "code",
   "execution_count": 9,
   "id": "34ba35dc",
   "metadata": {},
   "outputs": [
    {
     "name": "stdout",
     "output_type": "stream",
     "text": [
      "01\n",
      "23\n",
      "45\n",
      "6789\n"
     ]
    }
   ],
   "source": [
    "n = '0123456789'\n",
    "print(n[:2])  # sub-string in [0, 2)\n",
    "print(n[2:4]) # sub-string in [2, end)\n",
    "print(n[4:6]) # sub-string in [4, 6)\n",
    "print(n[6:])  # sub-string in [len(word)-2, end)"
   ]
  },
  {
   "cell_type": "code",
   "execution_count": 10,
   "id": "e9c93b09",
   "metadata": {},
   "outputs": [
    {
     "name": "stdout",
     "output_type": "stream",
     "text": [
      "0123456789\n",
      "0123456789\n"
     ]
    }
   ],
   "source": [
    "print(n[:3] + n[3:]) # same string\n",
    "print(n[:])          # same string"
   ]
  },
  {
   "cell_type": "code",
   "execution_count": 11,
   "id": "6674a4a4",
   "metadata": {},
   "outputs": [],
   "source": [
    "#_______________RAW-STRINGS_______________\n",
    "# does not interpret special characters"
   ]
  },
  {
   "cell_type": "code",
   "execution_count": 12,
   "id": "b5c9bd7f",
   "metadata": {},
   "outputs": [
    {
     "name": "stdout",
     "output_type": "stream",
     "text": [
      "~\\home\\student\n"
     ]
    }
   ],
   "source": [
    "print(r'~\\home\\student')"
   ]
  },
  {
   "cell_type": "markdown",
   "id": "4174c172",
   "metadata": {},
   "source": [
    "## LISTS\n",
    "* are mutable (can modify contents)"
   ]
  },
  {
   "cell_type": "code",
   "execution_count": 13,
   "id": "c8e9dfa9",
   "metadata": {},
   "outputs": [
    {
     "name": "stdout",
     "output_type": "stream",
     "text": [
      "['mot', 'hai', 'ba', 'bon', 'nam']\n"
     ]
    }
   ],
   "source": [
    "viet = ['mot', 'hai', 'ba', '?', '?']\n",
    "viet[3:] = ['bon', 'nam'] # replace values\n",
    "print(viet)"
   ]
  },
  {
   "cell_type": "code",
   "execution_count": 14,
   "id": "94c60c0c",
   "metadata": {},
   "outputs": [
    {
     "name": "stdout",
     "output_type": "stream",
     "text": [
      "[['mot', 'hai', 'ba', 'bon', 'nam'], 'bay', 'tam', 'chin']\n"
     ]
    }
   ],
   "source": [
    "viet_ext = [viet, 'bay', 'tam', 'chin'] # nested-lists\n",
    "print(viet_ext)"
   ]
  },
  {
   "cell_type": "code",
   "execution_count": 15,
   "id": "174c168d",
   "metadata": {},
   "outputs": [
    {
     "name": "stdout",
     "output_type": "stream",
     "text": [
      "[['mot', 'hai', 'ba', 'bon', 'nam'], 'bay', 'tam']\n"
     ]
    }
   ],
   "source": [
    "del viet_ext[-1] # remove item from list\n",
    "print(viet_ext)"
   ]
  },
  {
   "cell_type": "code",
   "execution_count": 16,
   "id": "3e8f8930",
   "metadata": {},
   "outputs": [],
   "source": [
    "#_______________RANGE_______________"
   ]
  },
  {
   "cell_type": "code",
   "execution_count": 17,
   "id": "ce5c8dfa",
   "metadata": {},
   "outputs": [
    {
     "name": "stdout",
     "output_type": "stream",
     "text": [
      "[0, 2, 4, 6, 8] Sum: 20\n"
     ]
    }
   ],
   "source": [
    "low, high, step = 0, 10, 2\n",
    "even = list(range(low, high, step))\n",
    "print(even,\n",
    "      'Sum:', sum(even))"
   ]
  },
  {
   "cell_type": "code",
   "execution_count": 90,
   "id": "e7e272ed",
   "metadata": {},
   "outputs": [
    {
     "data": {
      "text/plain": [
       "[1, 2, 3, 4, 5, 6, 7, 8, 9]"
      ]
     },
     "execution_count": 90,
     "metadata": {},
     "output_type": "execute_result"
    }
   ],
   "source": [
    "# unpack from list\n",
    "\n",
    "argv = [1, 10]\n",
    "list(range(*argv))"
   ]
  },
  {
   "cell_type": "code",
   "execution_count": 22,
   "id": "1e1d0994",
   "metadata": {},
   "outputs": [],
   "source": [
    "#_______________MATCH_______________"
   ]
  },
  {
   "cell_type": "code",
   "execution_count": null,
   "id": "9b6f4120",
   "metadata": {},
   "outputs": [],
   "source": [
    "class Point:\n",
    "    x: int\n",
    "    y: int\n",
    "\n",
    "match point:\n",
    "    case Point(x, y) if x == y:\n",
    "        print(f\"Y=X at {x}\")\n",
    "    case Point(x, y):\n",
    "        print(f\"Not on the diagonal\")"
   ]
  },
  {
   "cell_type": "code",
   "execution_count": 23,
   "id": "49cff156",
   "metadata": {},
   "outputs": [],
   "source": [
    "from enum import Enum\n",
    "\n",
    "class Color(Enum):\n",
    "    RED = 'red'\n",
    "    GREEN = 'green'\n",
    "    BLUE = 'blue'\n",
    "    \n",
    "match color:\n",
    "    case Color.RED:\n",
    "        print(\"I see red!\")\n",
    "    case Color.GREEN:\n",
    "        print(\"Grass is green\")\n",
    "    case Color.BLUE:\n",
    "        print(\"I'm feeling the blues :(\")"
   ]
  },
  {
   "cell_type": "markdown",
   "id": "06342328",
   "metadata": {},
   "source": [
    "## Functions"
   ]
  },
  {
   "cell_type": "code",
   "execution_count": 36,
   "id": "e1b32ae5",
   "metadata": {},
   "outputs": [
    {
     "name": "stdout",
     "output_type": "stream",
     "text": [
      "[1]\n",
      "[1, 2]\n",
      "[1, 2, 3]\n"
     ]
    }
   ],
   "source": [
    "def add(a, L=[]):\n",
    "    L.append(a)\n",
    "    return L\n",
    "\n",
    "print(add(1))\n",
    "print(add(2))\n",
    "print(add(3))"
   ]
  },
  {
   "cell_type": "code",
   "execution_count": 37,
   "id": "6409ef82",
   "metadata": {},
   "outputs": [
    {
     "name": "stdout",
     "output_type": "stream",
     "text": [
      "[1]\n",
      "[2]\n",
      "[3]\n"
     ]
    }
   ],
   "source": [
    "def add(a, L=None):\n",
    "    if L is None:\n",
    "        L = []\n",
    "    L.append(a)\n",
    "    return L\n",
    "\n",
    "print(add(1))\n",
    "print(add(2))\n",
    "print(add(3))"
   ]
  },
  {
   "cell_type": "code",
   "execution_count": 94,
   "id": "f66e348c",
   "metadata": {},
   "outputs": [],
   "source": [
    "#_______________Keyword vs. Positional Arguments_______________\n",
    "\n",
    "# NOTE: keyword args must follow positional args in function calls"
   ]
  },
  {
   "cell_type": "code",
   "execution_count": 93,
   "id": "3ce5b53d",
   "metadata": {},
   "outputs": [
    {
     "name": "stdout",
     "output_type": "stream",
     "text": [
      "First -> Rest\n",
      "Last -> Run\n",
      "Middle -> Fight\n"
     ]
    }
   ],
   "source": [
    "def M(state='Last', action=None):\n",
    "    print(f'{state} -> {action}')\n",
    "    \n",
    "M(state='First', action='Rest')   # 2 keyword arguments\n",
    "M('Last', 'Run')                  # 2 posiitonal arguments\n",
    "M('Middle', action='Fight') # 1 keyword and position arguments"
   ]
  },
  {
   "cell_type": "code",
   "execution_count": 95,
   "id": "5ed3c126",
   "metadata": {},
   "outputs": [],
   "source": [
    "#_______________*/** Arguments_______________\n",
    "\n",
    "# * - recieves a tuple containing positional arguments\n",
    "# ** - receives a dictionary containing all keyword arguments"
   ]
  },
  {
   "cell_type": "code",
   "execution_count": 91,
   "id": "1667b687",
   "metadata": {},
   "outputs": [
    {
     "name": "stdout",
     "output_type": "stream",
     "text": [
      "1. Pencil\n",
      "2. Paper\n",
      "3. Eraser\n",
      "price : 10\n",
      "manufacturer : Staple\n"
     ]
    }
   ],
   "source": [
    "def store(*items, **db):\n",
    "    for shelf, item in enumerate(items):\n",
    "        print(f'{shelf+1}. {item}')\n",
    "    for attr in db:\n",
    "        print(attr, ':', db[attr])\n",
    "\n",
    "info = {'price': 10, 'manufacturer': 'Staple'}\n",
    "store('Pencil', 'Paper', 'Eraser', **info)"
   ]
  },
  {
   "cell_type": "code",
   "execution_count": 96,
   "id": "7e518e78",
   "metadata": {},
   "outputs": [],
   "source": [
    "#_______________Special Parameters: / and *_______________\n",
    "\n",
    "# <positional-only> /\n",
    "# * <keyword-only>"
   ]
  },
  {
   "cell_type": "code",
   "execution_count": 116,
   "id": "bd730af4",
   "metadata": {},
   "outputs": [
    {
     "name": "stdout",
     "output_type": "stream",
     "text": [
      "<3\n",
      "unlocked\n"
     ]
    }
   ],
   "source": [
    "from random import randrange\n",
    "\n",
    "def restrict(key, /, message, *, state):\n",
    "    open = randrange(1, 10) == key\n",
    "    \n",
    "    if open: print(message)\n",
    "    else: print(':(')\n",
    "    return 'unlocked' if open else 'locked'\n",
    "\n",
    "state = restrict(5, '<3', state='locked')\n",
    "print(state)"
   ]
  },
  {
   "cell_type": "code",
   "execution_count": 89,
   "id": "fb209ffa",
   "metadata": {},
   "outputs": [
    {
     "data": {
      "text/plain": [
       "'Bob_loves_Amy'"
      ]
     },
     "execution_count": 89,
     "metadata": {},
     "output_type": "execute_result"
    }
   ],
   "source": [
    "# variadic arguments\n",
    "# NOTE: only keywords\n",
    "\n",
    "def concat(*args, sep=' '):\n",
    "     return sep.join(args)\n",
    "\n",
    "concat('Bob', 'loves', 'Amy', sep='_')"
   ]
  },
  {
   "cell_type": "code",
   "execution_count": 117,
   "id": "58c67aa4",
   "metadata": {},
   "outputs": [],
   "source": [
    "#_______________Lamda Expressions_______________\n",
    "\n",
    "# can be used wherever function objects are required\n",
    "# syntactically restricted to a single expression"
   ]
  },
  {
   "cell_type": "code",
   "execution_count": 121,
   "id": "9d6911f5",
   "metadata": {},
   "outputs": [
    {
     "name": "stdout",
     "output_type": "stream",
     "text": [
      "[('Bill', 9), ('Allison', 4), ('Jack', 1)]\n"
     ]
    }
   ],
   "source": [
    "score = [('Jack', 1), ('Bill', 9), ('Allison', 4)]\n",
    "score.sort(key=lambda pos: pos[1], reverse=True)\n",
    "print(score)"
   ]
  },
  {
   "cell_type": "code",
   "execution_count": 134,
   "id": "48a63cb1",
   "metadata": {},
   "outputs": [
    {
     "name": "stdout",
     "output_type": "stream",
     "text": [
      "$10...pho bo\n"
     ]
    }
   ],
   "source": [
    "#_______________Annotations_______________\n",
    "\n",
    "def food(pho: str, thit: str, tien: int) -> None:\n",
    "    print(f'${tien}...{pho} {thit}')\n",
    "    \n",
    "food('pho', 'bo', 10)"
   ]
  }
 ],
 "metadata": {
  "kernelspec": {
   "display_name": "Python 3 (ipykernel)",
   "language": "python",
   "name": "python3"
  },
  "language_info": {
   "codemirror_mode": {
    "name": "ipython",
    "version": 3
   },
   "file_extension": ".py",
   "mimetype": "text/x-python",
   "name": "python",
   "nbconvert_exporter": "python",
   "pygments_lexer": "ipython3",
   "version": "3.8.10"
  }
 },
 "nbformat": 4,
 "nbformat_minor": 5
}
