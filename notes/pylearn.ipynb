{
 "cells": [
  {
   "cell_type": "markdown",
   "id": "c87d6dea",
   "metadata": {},
   "source": [
    "# Table of Contents\n",
    "\n",
    "1. [Introduction](#1)\n",
    "    - [Features](#1a)\n",
    "    - [Pros](#1b)\n",
    "    - [Location](#1c)\n",
    "    - [Interpreter](#1d)\n",
    "2. [New Arithmetic](#2)\n",
    "3. [Strings](#3)\n",
    "    - [Quotes](#3a)\n",
    "    - [Literals](#3b)\n",
    "    - [Slicing](#3c)\n",
    "    - [Raw Strings](#3d)\n",
    "4. [Lists](#4)\n",
    "    - [Range](#4a)\n",
    "    - [Match](#4b)\n",
    "    - [Queue](#4c)\n",
    "    - [List Comprehension](#4d)\n",
    "    - [Looping Techniques (zip, reversed, sorted, itertools::count)](#4e)\n",
    "    - [Generators](#4f)\n",
    "5. [Functions](#5)\n",
    "    - [Keyword vs. Positional Arguments](#5a)\n",
    "    - [Star/Double-Star Arguments](#5b)\n",
    "    - [Special Parameters: / and *](#5c)\n",
    "    - [Variadic Parameters](#5d)\n",
    "    - [Lamda Expressions](#5e)\n",
    "    - [Annotations](#5f)\n",
    "6. [Tuples](#6)\n",
    "7. [Sets](#7)\n",
    "8. [Dictionaries](#8)\n",
    "9. [Modules](#9)\n",
    "    - [sys module](#9a)\n",
    "    - [dir module](#9b)\n",
    "    - [Packages](#9c)\n",
    "    - [Relative Imports](#9d)\n",
    "10. [Input and Output](#10)\n",
    "12. [Virtual Environments](#12)\n",
    "13. [Pseudo-Random Numbers](#13)\n",
    "14. [Pygame](#14)\n",
    "15. [Regular Expressions](#15)\n",
    "***"
   ]
  },
  {
   "cell_type": "markdown",
   "id": "b0bfc8b7",
   "metadata": {},
   "source": [
    "<a id='1'>**Introduction**</a>\n",
    "* <a id='1a'>**Features**</a>\n",
    "    * very-high-level interpreted (no compilation/linking) language\n",
    "* <a id='1b'>**Pros**</a>\n",
    "    * allows programs to be split into modules\n",
    "    * more error checking\n",
    "    * compact + readability\n",
    "        1. __data-types__: express complex operations in a single statement\n",
    "        2. __indentation__: no need for curly-braces\n",
    "        3. __declarations__: not needed for variables/arguments\n",
    "    * extensible\n",
    "        * can add *built in function/module* to the interpreter\n",
    "        * can link python programs to libraries\n",
    "* <a id='1c'>**Location:**</a> ```bash /usr/local/bin/python3```\n",
    "* <a id='1d'>**Interpreter**</a>\n",
    "     - reads + executes commands interactively\n",
    "     - arguments and modules are assigned to the *argv* in the *sys* module\n",
    "         - ```python sys.argv[0]```\n",
    "     - **Invoke (Run):**`\n",
    "         * ```python3 -c command [arg] # executes statement(s) in command```\n",
    "         * ```bash python3 -i -m module [arg]  # executes the source file for module and enters interactive mode```\n",
    "         * ```python *.py <args>```"
   ]
  },
  {
   "cell_type": "markdown",
   "id": "50dfb8e4",
   "metadata": {},
   "source": [
    "<a id='2'>**New Arithmetic**</a>\n",
    "***"
   ]
  },
  {
   "cell_type": "code",
   "execution_count": 7,
   "id": "ce465fae",
   "metadata": {},
   "outputs": [
    {
     "name": "stdout",
     "output_type": "stream",
     "text": [
      "(41, 8)\n",
      "5.125 0.0 5.125\n",
      "False\n",
      "True\n"
     ]
    }
   ],
   "source": [
    "# Using the '_' keyword\n",
    "\n",
    "3 + 4\n",
    "_ + _\n",
    "\n",
    "x = 5.125\n",
    "print(x.as_integer_ratio())\n",
    "print(x.real, x.imag, x.conjugate())\n",
    "print(x.is_integer())\n",
    "\n",
    "print(15 < 25 < 30)"
   ]
  },
  {
   "cell_type": "markdown",
   "id": "fd881e99",
   "metadata": {},
   "source": [
    "<a id='3'>**Strings**</a><br>\n",
    "> are immutable (cannot modify characters)\n",
    "***"
   ]
  },
  {
   "cell_type": "markdown",
   "id": "f2dabf77",
   "metadata": {},
   "source": [
    "<a id='3a'>*Quotes*</a>"
   ]
  },
  {
   "cell_type": "code",
   "execution_count": 8,
   "id": "c49f547b",
   "metadata": {},
   "outputs": [
    {
     "data": {
      "text/plain": [
       "'\"Bob\\'s\\nDrink\"'"
      ]
     },
     "execution_count": 8,
     "metadata": {},
     "output_type": "execute_result"
    }
   ],
   "source": [
    "# \\' escape character is represented inside\n",
    "# double-quotes enclosed in single-quotes\n",
    "'\"Bob\\'s\\nDrink\"'"
   ]
  },
  {
   "cell_type": "code",
   "execution_count": 9,
   "id": "128714a4",
   "metadata": {},
   "outputs": [
    {
     "name": "stdout",
     "output_type": "stream",
     "text": [
      "\"Bob's\n",
      "Drink\"\n",
      "Quote: \"Life is Beautiful\"\n"
     ]
    }
   ],
   "source": [
    "print('\"Bob\\'s\\nDrink\"')              # \\' and \\n is visible\n",
    "print(\"Quote: \\\"Life is Beautiful\\\"\") # escape \\\" character"
   ]
  },
  {
   "cell_type": "markdown",
   "id": "6b2ae36d",
   "metadata": {},
   "source": [
    "<a id='3b'>*Literals*</a>"
   ]
  },
  {
   "cell_type": "code",
   "execution_count": 10,
   "id": "1a0a9f1e",
   "metadata": {},
   "outputs": [
    {
     "name": "stdout",
     "output_type": "stream",
     "text": [
      "Todo:\n",
      "    - clean\n",
      "    - dishes\n"
     ]
    }
   ],
   "source": [
    "# EOL characters are included in \"\"\"...\"\"\" string literals\n",
    "\n",
    "print(\"\"\"\\\n",
    "Todo:\n",
    "    - clean\n",
    "    - dishes\"\"\")"
   ]
  },
  {
   "cell_type": "code",
   "execution_count": 11,
   "id": "b501512a",
   "metadata": {},
   "outputs": [
    {
     "name": "stdout",
     "output_type": "stream",
     "text": [
      "concatenate\n",
      "hellohelloworld\n",
      "My name was Bob\n",
      "blank\n"
     ]
    }
   ],
   "source": [
    "print('con' 'cat' 'enate') # concat string literals\n",
    "\n",
    "a = 'hello'; b = 'world'\n",
    "print(2 * a + b) # concat variable strings\n",
    "\n",
    "example = \"My name is Bob\"\n",
    "print(example.replace('is', 'was'))\n",
    "\n",
    "example = \"  blank  \"\n",
    "print(example.strip())"
   ]
  },
  {
   "cell_type": "markdown",
   "id": "00085387",
   "metadata": {},
   "source": [
    "<a id='3c'>*Slicing*</a>"
   ]
  },
  {
   "cell_type": "code",
   "execution_count": 2,
   "id": "34ba35dc",
   "metadata": {},
   "outputs": [
    {
     "name": "stdout",
     "output_type": "stream",
     "text": [
      "01\n",
      "23\n",
      "45\n",
      "6789\n",
      "[0, 2, 4, 6, 8] == [0, 2, 4, 6, 8]\n"
     ]
    }
   ],
   "source": [
    "#    +---+---+---+---+---+---+\n",
    "#    | P | y | t | h | o | n |\n",
    "#    +---+---+---+---+---+---+\n",
    "#    0   1   2   3   4   5   6\n",
    "#    6  -5  -4  -3  -2  -1\n",
    "\n",
    "n = '0123456789'\n",
    "print(n[:2])  # sub-string in [0, 2)\n",
    "print(n[2:4]) # sub-string in [2, end)\n",
    "print(n[4:6]) # sub-string in [4, 6)\n",
    "print(n[6:])  # sub-string in [len(word)-2, end)\n",
    "\n",
    "L = list(range(10))\n",
    "print(L[::2], '==', L[0:len(L):2])"
   ]
  },
  {
   "cell_type": "code",
   "execution_count": 13,
   "id": "e9c93b09",
   "metadata": {},
   "outputs": [
    {
     "name": "stdout",
     "output_type": "stream",
     "text": [
      "0123456789\n",
      "0123456789\n"
     ]
    }
   ],
   "source": [
    "print(n[:3] + n[3:]) # same string\n",
    "print(n[:])          # same string"
   ]
  },
  {
   "cell_type": "markdown",
   "id": "84104619",
   "metadata": {},
   "source": [
    "<a id='3d'>*Raw Strings*</a>\n",
    "> does not interpret special characters"
   ]
  },
  {
   "cell_type": "code",
   "execution_count": 14,
   "id": "b5c9bd7f",
   "metadata": {},
   "outputs": [
    {
     "name": "stdout",
     "output_type": "stream",
     "text": [
      "~\\home\\student\n"
     ]
    }
   ],
   "source": [
    "print(r'~\\home\\student')"
   ]
  },
  {
   "cell_type": "markdown",
   "id": "4174c172",
   "metadata": {},
   "source": [
    "<a id='4'>**Lists**</a>\n",
    "> are mutable (can modify contents)"
   ]
  },
  {
   "cell_type": "code",
   "execution_count": 29,
   "id": "c8e9dfa9",
   "metadata": {},
   "outputs": [
    {
     "name": "stdout",
     "output_type": "stream",
     "text": [
      "['mot', 'hai', 'ba', 'bon', 'nam']\n"
     ]
    }
   ],
   "source": [
    "viet = ['mot', 'hai', 'ba', '?', '?']\n",
    "viet[3:] = ['bon', 'nam'] # replace values\n",
    "print(viet)"
   ]
  },
  {
   "cell_type": "code",
   "execution_count": 53,
   "id": "94c60c0c",
   "metadata": {},
   "outputs": [
    {
     "name": "stdout",
     "output_type": "stream",
     "text": [
      "[['mot', 'hai', 'ba', 'bon', 'nam'], 'bay', 'tam', 'chin']\n"
     ]
    }
   ],
   "source": [
    "viet_ext = [viet, 'bay', 'tam', 'chin'] # nested-lists\n",
    "print(viet_ext)"
   ]
  },
  {
   "cell_type": "code",
   "execution_count": 54,
   "id": "174c168d",
   "metadata": {},
   "outputs": [
    {
     "name": "stdout",
     "output_type": "stream",
     "text": [
      "[['mot', 'hai', 'ba', 'bon', 'nam']]\n"
     ]
    }
   ],
   "source": [
    "del viet_ext[-2:] # remove item from list, doesn't return element\n",
    "viet_ext.pop() # remove last item from list, returns element\n",
    "print(viet_ext)"
   ]
  },
  {
   "cell_type": "code",
   "execution_count": 2,
   "id": "d2dbfa53",
   "metadata": {},
   "outputs": [
    {
     "name": "stdout",
     "output_type": "stream",
     "text": [
      "# Apples 2\n",
      "Banana at 3\n",
      "Banana from 4 at 6\n",
      "['banana', 'apple', 'kiwi', 'banana', 'pear', 'apple', 'orange']\n",
      "['apple', 'apple', 'banana', 'banana', 'kiwi', 'orange', 'pear']\n",
      "['apple', 'apple', 'banana', 'banana', 'kiwi', 'orange', 'pear']\n"
     ]
    }
   ],
   "source": [
    "# count, index, reverse, sort\n",
    "fruits = ['orange', 'apple', 'pear', 'banana',\n",
    "          'kiwi', 'apple', 'banana']\n",
    "\n",
    "print('# Apples', fruits.count('apple'))\n",
    "\n",
    "print('Banana at', fruits.index('banana'))\n",
    "print('Banana from 4 at', fruits.index('banana', 4))\n",
    "\n",
    "fruits.reverse()\n",
    "print(fruits)\n",
    "\n",
    "fruits.sort()\n",
    "print(fruits)"
   ]
  },
  {
   "cell_type": "code",
   "execution_count": 8,
   "id": "93888560",
   "metadata": {},
   "outputs": [
    {
     "name": "stdout",
     "output_type": "stream",
     "text": [
      "True\n"
     ]
    }
   ],
   "source": [
    "a = [1, 2, 3]\n",
    "b = a\n",
    "print(a is b)"
   ]
  },
  {
   "cell_type": "markdown",
   "id": "cfcb399f",
   "metadata": {},
   "source": [
    "<a id='4a'>*Range*</a>"
   ]
  },
  {
   "cell_type": "code",
   "execution_count": 18,
   "id": "ce5c8dfa",
   "metadata": {},
   "outputs": [
    {
     "name": "stdout",
     "output_type": "stream",
     "text": [
      "[0, 2, 4, 6, 8] Sum: 20\n"
     ]
    }
   ],
   "source": [
    "low, high, step = 0, 10, 2\n",
    "even = list(range(low, high, step))\n",
    "print(even,\n",
    "      'Sum:', sum(even))"
   ]
  },
  {
   "cell_type": "code",
   "execution_count": 42,
   "id": "45929ff0",
   "metadata": {},
   "outputs": [
    {
     "data": {
      "text/plain": [
       "[1, 2, 3, 4, 5, 6, 7, 8, 9]"
      ]
     },
     "execution_count": 42,
     "metadata": {},
     "output_type": "execute_result"
    }
   ],
   "source": [
    "# unpack from list\n",
    "\n",
    "argv = [1, 10]\n",
    "list(range(*argv))"
   ]
  },
  {
   "cell_type": "markdown",
   "id": "fb42c133",
   "metadata": {},
   "source": [
    "<a id='4b'>*Match*</a>"
   ]
  },
  {
   "cell_type": "code",
   "execution_count": null,
   "id": "9b6f4120",
   "metadata": {},
   "outputs": [],
   "source": [
    "class Point:\n",
    "    x: int\n",
    "    y: int\n",
    "\n",
    "match point:\n",
    "    case Point(x, y) if x == y:\n",
    "        print(f\"Y=X at {x}\")\n",
    "    case Point(x, y):\n",
    "        print(f\"Not on the diagonal\")"
   ]
  },
  {
   "cell_type": "code",
   "execution_count": null,
   "id": "49cff156",
   "metadata": {},
   "outputs": [],
   "source": [
    "from enum import Enum\n",
    "\n",
    "class Color(Enum):\n",
    "    RED = 'red'\n",
    "    GREEN = 'green'\n",
    "    BLUE = 'blue'\n",
    "    \n",
    "match color:\n",
    "    case Color.RED:\n",
    "        print(\"I see red!\")\n",
    "    case Color.GREEN:\n",
    "        print(\"Grass is green\")\n",
    "    case Color.BLUE:\n",
    "        print(\"I'm feeling the blues :(\")"
   ]
  },
  {
   "cell_type": "markdown",
   "id": "04c40a10",
   "metadata": {},
   "source": [
    "<a id='4c'>*Queue*</a>"
   ]
  },
  {
   "cell_type": "code",
   "execution_count": 45,
   "id": "9cb2a1da",
   "metadata": {},
   "outputs": [
    {
     "name": "stdout",
     "output_type": "stream",
     "text": [
      "deque(['2', '3', '4'])\n"
     ]
    }
   ],
   "source": [
    "from collections import deque\n",
    "\n",
    "queue = deque(['1', '2', '3'])\n",
    "queue.append('4')\n",
    "queue.popleft()\n",
    "print(queue)"
   ]
  },
  {
   "cell_type": "markdown",
   "id": "9eae1e6a",
   "metadata": {},
   "source": [
    "<a id='4d'>*List Comprehension*</a>"
   ]
  },
  {
   "cell_type": "code",
   "execution_count": 47,
   "id": "74929e81",
   "metadata": {},
   "outputs": [
    {
     "name": "stdout",
     "output_type": "stream",
     "text": [
      "[1, 2, 3, 4, 5, 6]\n"
     ]
    }
   ],
   "source": [
    "# flatten a list\n",
    "vec = [[1, 2, 3], [4, 5, 6]]\n",
    "vec = [x for y in vec for x in y]\n",
    "print(vec)"
   ]
  },
  {
   "cell_type": "markdown",
   "id": "0c7345c9",
   "metadata": {},
   "source": [
    "<a id='4e'>*Looping Techniques _(zip, reversed, sorted, itertools::count)_*</a>"
   ]
  },
  {
   "cell_type": "code",
   "execution_count": 83,
   "id": "df16ed7c",
   "metadata": {},
   "outputs": [
    {
     "name": "stdout",
     "output_type": "stream",
     "text": [
      "1 4\n",
      "2 5\n",
      "3 6\n"
     ]
    }
   ],
   "source": [
    "a, b = [1, 2, 3], [4, 5, 6]\n",
    "\n",
    "for x, y in zip(a, b):\n",
    "    print(x, y)"
   ]
  },
  {
   "cell_type": "code",
   "execution_count": 88,
   "id": "688c842c",
   "metadata": {},
   "outputs": [
    {
     "name": "stdout",
     "output_type": "stream",
     "text": [
      "8,6,4,2,0,"
     ]
    }
   ],
   "source": [
    "for i in reversed(range(0, 10, 2)):\n",
    "    print(i, end=',')"
   ]
  },
  {
   "cell_type": "code",
   "execution_count": 89,
   "id": "3404fafb",
   "metadata": {},
   "outputs": [
    {
     "name": "stdout",
     "output_type": "stream",
     "text": [
      "2,4,6,8,10,"
     ]
    }
   ],
   "source": [
    "for i in sorted(range(10, 0, -2)):\n",
    "    print(i, end=',')"
   ]
  },
  {
   "cell_type": "code",
   "execution_count": 5,
   "id": "401deb1e",
   "metadata": {},
   "outputs": [
    {
     "name": "stdout",
     "output_type": "stream",
     "text": [
      "0, 1, 2, 3, 4, 5, 6, 7, 8, 9, "
     ]
    }
   ],
   "source": [
    "from itertools import count\n",
    "\n",
    "for i in count(): # acts as an infinite range\n",
    "    if i >= 10:\n",
    "        break\n",
    "    print(i, end=', ')"
   ]
  },
  {
   "cell_type": "code",
   "execution_count": 7,
   "id": "77eac19d",
   "metadata": {},
   "outputs": [
    {
     "name": "stdout",
     "output_type": "stream",
     "text": [
      "(0, 1, 2) (0, 2, 1) (1, 0, 2) (1, 2, 0) (2, 0, 1) (2, 1, 0)\n"
     ]
    }
   ],
   "source": [
    "from itertools import permutations\n",
    "p = permutations(range(3))\n",
    "print(*p)"
   ]
  },
  {
   "cell_type": "code",
   "execution_count": 6,
   "id": "81a64247",
   "metadata": {},
   "outputs": [
    {
     "name": "stdout",
     "output_type": "stream",
     "text": [
      "(0, 1) (0, 2) (0, 3) (1, 2) (1, 3) (2, 3)\n"
     ]
    }
   ],
   "source": [
    "from itertools import combinations\n",
    "c = combinations(range(4), 2)\n",
    "print(*c)"
   ]
  },
  {
   "cell_type": "code",
   "execution_count": 2,
   "id": "bc967f73",
   "metadata": {},
   "outputs": [
    {
     "name": "stdout",
     "output_type": "stream",
     "text": [
      "('a', 0) ('a', 1) ('a', 2) ('b', 0) ('b', 1) ('b', 2) ('c', 0) ('c', 1) ('c', 2)\n"
     ]
    }
   ],
   "source": [
    "from itertools import product\n",
    "p = product('abc', range(3))\n",
    "print(*p)"
   ]
  },
  {
   "cell_type": "markdown",
   "id": "ef763cc2",
   "metadata": {},
   "source": [
    "<a id='4f'>*Generators*</a>\n",
    "- a recipe for producing values\n",
    "- does not compute the values until they are needed"
   ]
  },
  {
   "cell_type": "code",
   "execution_count": 3,
   "id": "d3dc6649",
   "metadata": {},
   "outputs": [
    {
     "name": "stdout",
     "output_type": "stream",
     "text": [
      "[0, 1, 4, 9, 16, 25, 36, 49, 64, 81, 100, 121]\n"
     ]
    }
   ],
   "source": [
    "gen_expr = (n**2 for n in range(12))\n",
    "print(list(gen_expr))"
   ]
  },
  {
   "cell_type": "code",
   "execution_count": 23,
   "id": "1be25a2e",
   "metadata": {},
   "outputs": [
    {
     "name": "stdout",
     "output_type": "stream",
     "text": [
      "0 1 4 9 16 25 36 49 64 81\n"
     ]
    }
   ],
   "source": [
    "def gen_func(N):\n",
    "    for i in range(N):\n",
    "        yield i ** 2\n",
    "\n",
    "# print(*gen_func())\n",
    "G = gen_func(10)\n",
    "print(*G)"
   ]
  },
  {
   "cell_type": "code",
   "execution_count": 7,
   "id": "cc05f8ee",
   "metadata": {},
   "outputs": [
    {
     "name": "stdout",
     "output_type": "stream",
     "text": [
      "1 11 13 17 19 23 29 31 37 41 "
     ]
    }
   ],
   "source": [
    "factors = [2, 3, 5, 7]\n",
    "G = (i for i in count() if all(i % n > 0 for n in factors))\n",
    "\n",
    "for val in G:\n",
    "    print(val, end=' ')\n",
    "    if val > 20: break\n",
    "\n",
    "for val in G:\n",
    "    print(val, end=' ')\n",
    "    if val > 40: break"
   ]
  },
  {
   "cell_type": "code",
   "execution_count": null,
   "id": "7298c306",
   "metadata": {},
   "outputs": [],
   "source": []
  },
  {
   "cell_type": "markdown",
   "id": "06342328",
   "metadata": {},
   "source": [
    "<a id='5'>**Functions**</a>"
   ]
  },
  {
   "cell_type": "code",
   "execution_count": 20,
   "id": "e1b32ae5",
   "metadata": {},
   "outputs": [
    {
     "name": "stdout",
     "output_type": "stream",
     "text": [
      "[1]\n",
      "[1, 2]\n",
      "[1, 2, 3]\n"
     ]
    }
   ],
   "source": [
    "def add(a, L=[]):\n",
    "    L.append(a)\n",
    "    return L\n",
    "\n",
    "print(add(1))\n",
    "print(add(2))\n",
    "print(add(3))"
   ]
  },
  {
   "cell_type": "code",
   "execution_count": 21,
   "id": "6409ef82",
   "metadata": {},
   "outputs": [
    {
     "name": "stdout",
     "output_type": "stream",
     "text": [
      "[1]\n",
      "[2]\n",
      "[3]\n"
     ]
    }
   ],
   "source": [
    "def add(a, L=None):\n",
    "    if L is None:\n",
    "        L = []\n",
    "    L.append(a)\n",
    "    return L\n",
    "\n",
    "print(add(1))\n",
    "print(add(2))\n",
    "print(add(3))"
   ]
  },
  {
   "cell_type": "code",
   "execution_count": 11,
   "id": "c2b7854f",
   "metadata": {},
   "outputs": [
    {
     "name": "stdout",
     "output_type": "stream",
     "text": [
      "[2, 3, 5, 7, 11, 13, 17, 19, 23, 29]\n"
     ]
    }
   ],
   "source": [
    "L = []\n",
    "nmax = 30\n",
    "\n",
    "for n in range(2, nmax):\n",
    "    for factor in L:\n",
    "        if n % factor == 0:\n",
    "            break\n",
    "    else: # no break\n",
    "        L.append(n)\n",
    "print(L)"
   ]
  },
  {
   "cell_type": "markdown",
   "id": "af37b5c8",
   "metadata": {},
   "source": [
    "<a id='5a'>*Keyword vs. Positional Arguments*</a>\n",
    "> keyword args must follow positional args in function calls"
   ]
  },
  {
   "cell_type": "code",
   "execution_count": 22,
   "id": "3ce5b53d",
   "metadata": {},
   "outputs": [
    {
     "name": "stdout",
     "output_type": "stream",
     "text": [
      "First -> Rest\n",
      "Last -> Run\n",
      "Middle -> Fight\n"
     ]
    }
   ],
   "source": [
    "def M(state='Last', action=None):\n",
    "    print(f'{state} -> {action}')\n",
    "    \n",
    "M(state='First', action='Rest')   # 2 keyword arguments\n",
    "M('Last', 'Run')                  # 2 posiitonal arguments\n",
    "M('Middle', action='Fight') # 1 keyword and position arguments"
   ]
  },
  {
   "cell_type": "markdown",
   "id": "72755c2b",
   "metadata": {},
   "source": [
    "<a id='5b'>_Star/Double-Star Arguments_</a>\n",
    "> recieves a tuple containing positional arguments <br>\n",
    "> receives a dictionary containing all keyword arguments"
   ]
  },
  {
   "cell_type": "code",
   "execution_count": 23,
   "id": "1667b687",
   "metadata": {},
   "outputs": [
    {
     "name": "stdout",
     "output_type": "stream",
     "text": [
      "1. Pencil\n",
      "2. Paper\n",
      "3. Eraser\n",
      "price : 10\n",
      "manufacturer : Staple\n"
     ]
    }
   ],
   "source": [
    "def store(*items, **db):\n",
    "    for shelf, item in enumerate(items):\n",
    "        print(f'{shelf+1}. {item}')\n",
    "    for attr in db:\n",
    "        print(attr, ':', db[attr])\n",
    "\n",
    "info = {'price': 10, 'manufacturer': 'Staple'}\n",
    "store('Pencil', 'Paper', 'Eraser', **info)"
   ]
  },
  {
   "cell_type": "markdown",
   "id": "4555a52c",
   "metadata": {},
   "source": [
    "<a id='5c'>_Special Parameters: / and *_</a>\n",
    "> '/' -> positional-only, order matters <br>\n",
    "> '*' -> keyword-only"
   ]
  },
  {
   "cell_type": "code",
   "execution_count": 24,
   "id": "bd730af4",
   "metadata": {},
   "outputs": [],
   "source": [
    "from random import randrange\n",
    "\n",
    "def restrict(key, /, message, *, state):\n",
    "    pass\n",
    "\n",
    "restrict(5, '<3', state='locked')"
   ]
  },
  {
   "cell_type": "markdown",
   "id": "45925d92",
   "metadata": {},
   "source": [
    "<a id='5d'>*Variadic Arguments*</a>\n",
    "> only keywords"
   ]
  },
  {
   "cell_type": "code",
   "execution_count": 25,
   "id": "fb209ffa",
   "metadata": {},
   "outputs": [
    {
     "data": {
      "text/plain": [
       "'Bob_loves_Amy'"
      ]
     },
     "execution_count": 25,
     "metadata": {},
     "output_type": "execute_result"
    }
   ],
   "source": [
    "def concat(*args, sep=' '):\n",
    "     return sep.join(args)\n",
    "\n",
    "concat('Bob', 'loves', 'Amy', sep='_')"
   ]
  },
  {
   "cell_type": "markdown",
   "id": "4700dad1",
   "metadata": {},
   "source": [
    "<a id='5e'>*Lamda Expressions*</a>\n",
    "> can be used wherever function objects are required <br>\n",
    "> syntactically restricted to a single expression"
   ]
  },
  {
   "cell_type": "code",
   "execution_count": 26,
   "id": "9d6911f5",
   "metadata": {},
   "outputs": [
    {
     "name": "stdout",
     "output_type": "stream",
     "text": [
      "[('Bill', 9), ('Allison', 4), ('Jack', 1)]\n"
     ]
    }
   ],
   "source": [
    "score = [('Jack', 1), ('Bill', 9), ('Allison', 4)]\n",
    "score.sort(key=lambda pos: pos[1], reverse=True)\n",
    "print(score)"
   ]
  },
  {
   "cell_type": "markdown",
   "id": "20cc414e",
   "metadata": {},
   "source": [
    "<a id='5f'>*Annotations*</a>"
   ]
  },
  {
   "cell_type": "code",
   "execution_count": 27,
   "id": "48a63cb1",
   "metadata": {},
   "outputs": [
    {
     "name": "stdout",
     "output_type": "stream",
     "text": [
      "$10...pho bo\n"
     ]
    }
   ],
   "source": [
    "def food(pho: str, thit: str, tien: int) -> None:\n",
    "    print(f'${tien}...{pho} {thit}')\n",
    "    \n",
    "food('pho', 'bo', 10)"
   ]
  },
  {
   "cell_type": "markdown",
   "id": "a2821675",
   "metadata": {},
   "source": [
    "<a id='6'>**Tuples**</a>\n",
    "> are immutable"
   ]
  },
  {
   "cell_type": "code",
   "execution_count": 57,
   "id": "ecfdd90a",
   "metadata": {},
   "outputs": [
    {
     "name": "stdout",
     "output_type": "stream",
     "text": [
      "('mot', 'hai', 3)\n",
      "([1, 2, 3], [4, 5, 6])\n"
     ]
    }
   ],
   "source": [
    "t = 'mot', 'hai', 3\n",
    "print(t)\n",
    "\n",
    "tuple_list = ([1, 2, 3], [4, 5, 6])\n",
    "print(tuple_list)"
   ]
  },
  {
   "cell_type": "markdown",
   "id": "e4e5607c",
   "metadata": {},
   "source": [
    "<a id='7'>**Sets**</a>"
   ]
  },
  {
   "cell_type": "code",
   "execution_count": 81,
   "id": "2d677c50",
   "metadata": {},
   "outputs": [
    {
     "name": "stdout",
     "output_type": "stream",
     "text": [
      "diff : {'1', '3', '2'}\n",
      "and : {'4', '5'}\n",
      "or : {'5', '6', '2', '1', '7', '4', '3', '8'}\n",
      "xor : {'1', '7', '3', '8', '6', '2'}\n"
     ]
    }
   ],
   "source": [
    "a, b = set('12345'), set('45678')\n",
    "c = dict([('diff', a-b), ('and', a&b), ('or', a|b), ('xor', a^b)])\n",
    "\n",
    "for op, result in c.items():\n",
    "    print(op, ':', result)"
   ]
  },
  {
   "cell_type": "markdown",
   "id": "8fb6ed8f",
   "metadata": {},
   "source": [
    "<a id='8'>**Dictionary**</a>\n",
    "> indexed by _unique immutable-keys_"
   ]
  },
  {
   "cell_type": "code",
   "execution_count": 4,
   "id": "c0c70714",
   "metadata": {},
   "outputs": [
    {
     "name": "stdout",
     "output_type": "stream",
     "text": [
      "{'mot': 1, 'hai': 2}\n",
      "{'mot': 1, 'hai': 2, 'ba': 3}\n",
      "{'mot': 1, 'hai': 2, 'ba': 3}\n",
      "{0: 0, 2: 4, 4: 16, 6: 36, 8: 64}\n",
      "{1, 2, 9}\n"
     ]
    }
   ],
   "source": [
    "a = {'mot': 1, 'hai': 2, 'ba': 3}\n",
    "del a['ba']\n",
    "\n",
    "b = dict([('mot', 1), ('hai', 2), ('ba', 3)])\n",
    "c = dict(mot=1, hai=2, ba=3)\n",
    "\n",
    "# dict comphrension\n",
    "d = {x: x**2 for x in range(0, 10, 2)}\n",
    "\n",
    "print(a, b, c, d, sep='\\n')"
   ]
  },
  {
   "cell_type": "markdown",
   "id": "c9e67f4f",
   "metadata": {},
   "source": [
    "<a id='9'>**Modules**</a>\n",
    "> file containing Python definitions and statements (initializes the module) <br>\n",
    "> **\\_\\_name\\_\\_** is a global variable containing the module's name as a string"
   ]
  },
  {
   "cell_type": "markdown",
   "id": "130a5308",
   "metadata": {},
   "source": [
    "<a id='9a'>**sys module**</a>\n",
    "> is a list of strings that determines the interpreter's search path for modules"
   ]
  },
  {
   "cell_type": "markdown",
   "id": "d01c9a4e",
   "metadata": {},
   "source": [
    "<a id='9b'>**dir module**</a>\n",
    "> is used to find out which names (var, modules, functions, etc.) a module defines\n",
    "> does not list __built-in variables/functions__ names"
   ]
  },
  {
   "cell_type": "markdown",
   "id": "94a26023",
   "metadata": {},
   "source": [
    "<a id='9c'>**Packages**</a>\n",
    "> a collection of modules for structuring Python's module namespace <br>\n",
    "> **\\_\\_init\\_\\_.py** are required to make Python treat directories containing the file as packages along with the **\\_\\_all\\_\\_** defintion"
   ]
  },
  {
   "cell_type": "markdown",
   "id": "fe049933",
   "metadata": {},
   "source": [
    "<a id='9d'>**Relative Imports**</a>\n",
    "> imports from the same directory are prefixed with a '.' (current package) and '..' (parent package)"
   ]
  },
  {
   "cell_type": "markdown",
   "id": "89555599",
   "metadata": {},
   "source": [
    "<a id='10'>**Input and Output**</a>\n",
    "> str() = human-readable <br>\n",
    "> repr() = generate representations read by the interpreter"
   ]
  },
  {
   "cell_type": "code",
   "execution_count": 8,
   "id": "ce70c420",
   "metadata": {},
   "outputs": [
    {
     "name": "stdout",
     "output_type": "stream",
     "text": [
      "hello world\n",
      "The value of pi is approximately 3.142.\n",
      "Sjoerd     ==>       4127\n",
      "Jack       ==>       4098\n",
      "Dcab       ==>       7678\n",
      "my name is 'Bob'\n"
     ]
    }
   ],
   "source": [
    "# Formatted String Literals (f-strings)\n",
    "\n",
    "world = 'world'\n",
    "print(f'hello {world}')\n",
    "\n",
    "#_________________________________________________________________________________________\n",
    "\n",
    "import math\n",
    "print(f'The value of pi is approximately {math.pi:.3f}.') # rounds pi to 3 dec. places\n",
    "\n",
    "#_________________________________________________________________________________________\n",
    "\n",
    "# ':' causes that field to be a minimum number of characters wide\n",
    "table = {'Sjoerd': 4127, 'Jack': 4098, 'Dcab': 7678}\n",
    "for name, phone in table.items():\n",
    "    print(f'{name:10} ==> {phone:10d}')\n",
    "    \n",
    "#_________________________________________________________________________________________\n",
    "\n",
    "# modifiers (!a -> ascii(), !s -> str(), !r -> repr())\n",
    "name = 'Bob'\n",
    "print(f'my name is {name!r}')"
   ]
  },
  {
   "cell_type": "code",
   "execution_count": 19,
   "id": "2578411d",
   "metadata": {},
   "outputs": [
    {
     "name": "stdout",
     "output_type": "stream",
     "text": [
      "eggs and spam\n",
      "spam and eggs\n",
      "spam and eggs\n",
      "meat: spam; protein: eggs\n",
      "meat: spam; protein: eggs\n"
     ]
    }
   ],
   "source": [
    "# str.format()\n",
    "yes_votes, no_votes = 42_572_654, 43_132_495\n",
    "percentage = yes_votes / (yes_votes + no_votes)\n",
    "\n",
    "'{:-9} YES votes  {:2.2%}'.format(yes_votes, percentage)\n",
    "\n",
    "#_________________________________________________________________________________________\n",
    "\n",
    "print('{1} and {0}'.format('spam', 'eggs'))\n",
    "print('{meat} and {protein}'.format(meat='spam', protein='eggs'))\n",
    "print('{0} and {protein}'.format('spam', protein='eggs'))\n",
    "\n",
    "#_________________________________________________________________________________________\n",
    "\n",
    "foods = {'meat': 'spam', 'protein': 'eggs'}\n",
    "print('meat: {0[meat]}; protein: {0[protein]}'.format(foods))\n",
    "print('meat: {meat}; protein: {protein}'.format(**foods))"
   ]
  },
  {
   "cell_type": "code",
   "execution_count": 21,
   "id": "9fdffc6f",
   "metadata": {},
   "outputs": [
    {
     "name": "stdout",
     "output_type": "stream",
     "text": [
      "00012\n",
      "-003.14\n"
     ]
    }
   ],
   "source": [
    "# str.zfill()\n",
    "\n",
    "print('12'.zfill(5))\n",
    "print('-3.14'.zfill(7))"
   ]
  },
  {
   "cell_type": "code",
   "execution_count": 22,
   "id": "2039676f",
   "metadata": {},
   "outputs": [
    {
     "name": "stdout",
     "output_type": "stream",
     "text": [
      "The value of pi is approximately 3.142.\n"
     ]
    }
   ],
   "source": [
    "# Old String Formatting\n",
    "\n",
    "import math\n",
    "print('The value of pi is approximately %5.3f.' % math.pi)"
   ]
  },
  {
   "cell_type": "code",
   "execution_count": 54,
   "id": "2d2d8053",
   "metadata": {},
   "outputs": [
    {
     "name": "stdout",
     "output_type": "stream",
     "text": [
      "Hello World\n",
      "changed\n",
      "changed\n",
      "changed\n",
      "changed\n",
      "changed\n",
      "changed\n",
      "changed\n",
      "\n",
      "\n",
      "Hello World\n",
      "changed\n",
      "changed\n",
      "changed\n",
      "changed\n",
      "changed\n",
      "changed\n",
      "changed\n",
      "\n",
      "\n"
     ]
    },
    {
     "data": {
      "text/plain": [
       "True"
      ]
     },
     "execution_count": 54,
     "metadata": {},
     "output_type": "execute_result"
    }
   ],
   "source": [
    "# Reading and Writing Files\n",
    "\n",
    "def output(file):\n",
    "    for line in file:\n",
    "        print(line, end='')\n",
    "    print('\\n')\n",
    "\n",
    "with open('empty.txt', 'r+') as f:\n",
    "    data = f.read()\n",
    "    output(data)\n",
    "    f.write('changed\\n')\n",
    "    output(data)\n",
    "    \n",
    "f.closed"
   ]
  },
  {
   "cell_type": "markdown",
   "id": "8be4ca73",
   "metadata": {},
   "source": [
    "<a id='12'>**Virtual Environments**</a>\n",
    "```bash\n",
    "> python3 -m venv env     # creates the venv\n",
    "> source env/bin/activate # opens the venv\n",
    "...\n",
    "> pip install <package>==x.y.z    # installs a specific version of a package\n",
    "> pip install --upgrade <package> # upgrades a package to the latest version\n",
    "> pip show <package> # displays information about a particular package\n",
    "> pip list # lists all packages in the venv\n",
    "> pip uninstall <argv> # removes pacakges from the venv\n",
    "> pip freeze > requirements.txt # saves all packages installed in the venv\n",
    "...\n",
    "> deactivate # exits the venv\n",
    "> pip install -r requirements.txt # loads the saved venv\n",
    "```\n",
    "**Notes**\n",
    "   * do not include in github repositories"
   ]
  },
  {
   "cell_type": "markdown",
   "id": "a3e306b9",
   "metadata": {},
   "source": [
    "<a id='13'>**Pseudo-Random Numbers**</a>"
   ]
  },
  {
   "cell_type": "code",
   "execution_count": 2,
   "id": "b0e048cd",
   "metadata": {},
   "outputs": [],
   "source": [
    "import random\n",
    "\n",
    "random.seed() # initializes the random number generator\n",
    "state = random.getstate() # returns the object capturing the current internal state of the generator\n",
    "random.setstate(state) # restores the internal state of the generator from previous getstate() call"
   ]
  },
  {
   "cell_type": "code",
   "execution_count": 3,
   "id": "849d7827",
   "metadata": {},
   "outputs": [
    {
     "name": "stdout",
     "output_type": "stream",
     "text": [
      "6\n",
      "9\n",
      "8\n",
      "92\n"
     ]
    }
   ],
   "source": [
    "# returns a randomly selected element from range(start, stop, step)\n",
    "start, stop, step = 0, 10, 2\n",
    "print(random.randrange(start, stop, step))\n",
    "print(random.randrange(stop))\n",
    "\n",
    "# returns a random integer N s.t. a <= N <= b\n",
    "a, b = 0, 10\n",
    "print(random.randint(a, b))\n",
    "\n",
    "# returns a non-negative Python integer with k random bits\n",
    "k = 8\n",
    "print(random.getrandbits(k))"
   ]
  },
  {
   "cell_type": "code",
   "execution_count": 4,
   "id": "42c53bfd",
   "metadata": {},
   "outputs": [
    {
     "name": "stdout",
     "output_type": "stream",
     "text": [
      "1\n",
      "[2, 4, 3, 1]\n",
      "[4, 3, 2, 1]\n"
     ]
    }
   ],
   "source": [
    "# returns a random element from the non-empty sequence\n",
    "seq = 1, 2, 3, 4\n",
    "print(random.choice(seq))\n",
    "\n",
    "# shuffle the immutable sequence x (without replacement)\n",
    "print(random.sample(seq, k=len(seq)))\n",
    "\n",
    "# shuffle the mutable sequence x in place\n",
    "x = [1, 2, 3, 4]\n",
    "random.shuffle(x)\n",
    "print(x)"
   ]
  },
  {
   "cell_type": "code",
   "execution_count": 5,
   "id": "6d1dbd16",
   "metadata": {},
   "outputs": [
    {
     "name": "stdout",
     "output_type": "stream",
     "text": [
      "0.8736119859254325\n",
      "6.908407069108199\n",
      "53.695188768425\n"
     ]
    }
   ],
   "source": [
    "# returns the next random floating point number in range [0.0, 1.0)\n",
    "print(random.random())\n",
    "\n",
    "# returns a random floating point number N s.t. a <= N <= b\n",
    "print(random.uniform(a, b))\n",
    "\n",
    "# returns a random floating point number N s.t. low <= N <= high and with\n",
    "# the specified mode betweeen those bounds\n",
    "low, high = 20, 60\n",
    "print(random.triangular(low, high, 30))"
   ]
  },
  {
   "cell_type": "markdown",
   "id": "3d52d1fa",
   "metadata": {},
   "source": [
    "<a id='15'>**Regular Expressions**</a>"
   ]
  },
  {
   "cell_type": "code",
   "execution_count": null,
   "id": "2eb6d733",
   "metadata": {},
   "outputs": [],
   "source": []
  }
 ],
 "metadata": {
  "interpreter": {
   "hash": "b0fa6594d8f4cbf19f97940f81e996739fb7646882a419484c72d19e05852a7e"
  },
  "kernelspec": {
   "display_name": "Python 3.10.4 64-bit",
   "language": "python",
   "name": "python3"
  },
  "language_info": {
   "codemirror_mode": {
    "name": "ipython",
    "version": 3
   },
   "file_extension": ".py",
   "mimetype": "text/x-python",
   "name": "python",
   "nbconvert_exporter": "python",
   "pygments_lexer": "ipython3",
   "version": "3.10.4"
  }
 },
 "nbformat": 4,
 "nbformat_minor": 5
}
