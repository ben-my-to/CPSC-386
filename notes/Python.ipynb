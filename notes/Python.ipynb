{
 "cells": [
  {
   "cell_type": "code",
   "execution_count": 12,
   "id": "8a3c3251",
   "metadata": {},
   "outputs": [
    {
     "name": "stdout",
     "output_type": "stream",
     "text": [
      "Requirement already satisfied: jupyterthemes in /home/student/.local/lib/python3.8/site-packages (0.20.0)\n",
      "Requirement already satisfied: ipython>=5.4.1 in /home/student/.local/lib/python3.8/site-packages (from jupyterthemes) (8.1.1)\n",
      "Requirement already satisfied: notebook>=5.6.0 in /home/student/.local/lib/python3.8/site-packages (from jupyterthemes) (6.4.8)\n",
      "Requirement already satisfied: matplotlib>=1.4.3 in /home/student/.local/lib/python3.8/site-packages (from jupyterthemes) (3.5.1)\n",
      "Requirement already satisfied: lesscpy>=0.11.2 in /home/student/.local/lib/python3.8/site-packages (from jupyterthemes) (0.15.0)\n",
      "Requirement already satisfied: jupyter-core in /home/student/.local/lib/python3.8/site-packages (from jupyterthemes) (4.9.2)\n",
      "Requirement already satisfied: setuptools>=18.5 in /usr/lib/python3/dist-packages (from ipython>=5.4.1->jupyterthemes) (45.2.0)\n",
      "Requirement already satisfied: jedi>=0.16 in /home/student/.local/lib/python3.8/site-packages (from ipython>=5.4.1->jupyterthemes) (0.18.1)\n",
      "Requirement already satisfied: decorator in /home/student/.local/lib/python3.8/site-packages (from ipython>=5.4.1->jupyterthemes) (5.1.1)\n",
      "Requirement already satisfied: stack-data in /home/student/.local/lib/python3.8/site-packages (from ipython>=5.4.1->jupyterthemes) (0.2.0)\n",
      "Requirement already satisfied: pickleshare in /home/student/.local/lib/python3.8/site-packages (from ipython>=5.4.1->jupyterthemes) (0.7.5)\n",
      "Requirement already satisfied: prompt-toolkit!=3.0.0,!=3.0.1,<3.1.0,>=2.0.0 in /home/student/.local/lib/python3.8/site-packages (from ipython>=5.4.1->jupyterthemes) (3.0.28)\n",
      "Requirement already satisfied: pexpect>4.3; sys_platform != \"win32\" in /usr/lib/python3/dist-packages (from ipython>=5.4.1->jupyterthemes) (4.6.0)\n",
      "Requirement already satisfied: matplotlib-inline in /home/student/.local/lib/python3.8/site-packages (from ipython>=5.4.1->jupyterthemes) (0.1.3)\n",
      "Requirement already satisfied: pygments>=2.4.0 in /home/student/.local/lib/python3.8/site-packages (from ipython>=5.4.1->jupyterthemes) (2.11.2)\n",
      "Requirement already satisfied: traitlets>=5 in /home/student/.local/lib/python3.8/site-packages (from ipython>=5.4.1->jupyterthemes) (5.1.1)\n",
      "Requirement already satisfied: backcall in /home/student/.local/lib/python3.8/site-packages (from ipython>=5.4.1->jupyterthemes) (0.2.0)\n",
      "Requirement already satisfied: terminado>=0.8.3 in /home/student/.local/lib/python3.8/site-packages (from notebook>=5.6.0->jupyterthemes) (0.13.2)\n",
      "Requirement already satisfied: nest-asyncio>=1.5 in /home/student/.local/lib/python3.8/site-packages (from notebook>=5.6.0->jupyterthemes) (1.5.4)\n",
      "Requirement already satisfied: ipython-genutils in /home/student/.local/lib/python3.8/site-packages (from notebook>=5.6.0->jupyterthemes) (0.2.0)\n",
      "Requirement already satisfied: ipykernel in /home/student/.local/lib/python3.8/site-packages (from notebook>=5.6.0->jupyterthemes) (6.9.1)\n",
      "Requirement already satisfied: nbformat in /home/student/.local/lib/python3.8/site-packages (from notebook>=5.6.0->jupyterthemes) (5.1.3)\n",
      "Requirement already satisfied: Send2Trash>=1.8.0 in /home/student/.local/lib/python3.8/site-packages (from notebook>=5.6.0->jupyterthemes) (1.8.0)\n",
      "Requirement already satisfied: argon2-cffi in /home/student/.local/lib/python3.8/site-packages (from notebook>=5.6.0->jupyterthemes) (21.3.0)\n",
      "Requirement already satisfied: prometheus-client in /home/student/.local/lib/python3.8/site-packages (from notebook>=5.6.0->jupyterthemes) (0.13.1)\n",
      "Requirement already satisfied: jinja2 in /usr/lib/python3/dist-packages (from notebook>=5.6.0->jupyterthemes) (2.10.1)\n",
      "Requirement already satisfied: nbconvert in /home/student/.local/lib/python3.8/site-packages (from notebook>=5.6.0->jupyterthemes) (6.4.2)\n",
      "Requirement already satisfied: jupyter-client>=5.3.4 in /home/student/.local/lib/python3.8/site-packages (from notebook>=5.6.0->jupyterthemes) (7.1.2)\n",
      "Requirement already satisfied: tornado>=6.1 in /home/student/.local/lib/python3.8/site-packages (from notebook>=5.6.0->jupyterthemes) (6.1)\n",
      "Requirement already satisfied: pyzmq>=17 in /home/student/.local/lib/python3.8/site-packages (from notebook>=5.6.0->jupyterthemes) (22.3.0)\n",
      "Requirement already satisfied: numpy>=1.17 in /home/student/.local/lib/python3.8/site-packages (from matplotlib>=1.4.3->jupyterthemes) (1.22.3)\n",
      "Requirement already satisfied: pillow>=6.2.0 in /usr/lib/python3/dist-packages (from matplotlib>=1.4.3->jupyterthemes) (7.0.0)\n",
      "Requirement already satisfied: pyparsing>=2.2.1 in /home/student/.local/lib/python3.8/site-packages (from matplotlib>=1.4.3->jupyterthemes) (3.0.7)\n",
      "Requirement already satisfied: python-dateutil>=2.7 in /usr/lib/python3/dist-packages (from matplotlib>=1.4.3->jupyterthemes) (2.7.3)\n",
      "Requirement already satisfied: fonttools>=4.22.0 in /home/student/.local/lib/python3.8/site-packages (from matplotlib>=1.4.3->jupyterthemes) (4.30.0)\n",
      "Requirement already satisfied: packaging>=20.0 in /home/student/.local/lib/python3.8/site-packages (from matplotlib>=1.4.3->jupyterthemes) (21.3)\n",
      "Requirement already satisfied: kiwisolver>=1.0.1 in /home/student/.local/lib/python3.8/site-packages (from matplotlib>=1.4.3->jupyterthemes) (1.3.2)\n",
      "Requirement already satisfied: cycler>=0.10 in /home/student/.local/lib/python3.8/site-packages (from matplotlib>=1.4.3->jupyterthemes) (0.11.0)\n",
      "Requirement already satisfied: six in /usr/lib/python3/dist-packages (from lesscpy>=0.11.2->jupyterthemes) (1.14.0)\n",
      "Requirement already satisfied: ply in /home/student/.local/lib/python3.8/site-packages (from lesscpy>=0.11.2->jupyterthemes) (3.11)\n",
      "Requirement already satisfied: parso<0.9.0,>=0.8.0 in /home/student/.local/lib/python3.8/site-packages (from jedi>=0.16->ipython>=5.4.1->jupyterthemes) (0.8.3)\n",
      "Requirement already satisfied: asttokens in /home/student/.local/lib/python3.8/site-packages (from stack-data->ipython>=5.4.1->jupyterthemes) (2.0.5)\n",
      "Requirement already satisfied: executing in /home/student/.local/lib/python3.8/site-packages (from stack-data->ipython>=5.4.1->jupyterthemes) (0.8.3)\n",
      "Requirement already satisfied: pure-eval in /home/student/.local/lib/python3.8/site-packages (from stack-data->ipython>=5.4.1->jupyterthemes) (0.2.2)\n",
      "Requirement already satisfied: wcwidth in /home/student/.local/lib/python3.8/site-packages (from prompt-toolkit!=3.0.0,!=3.0.1,<3.1.0,>=2.0.0->ipython>=5.4.1->jupyterthemes) (0.2.5)\n",
      "Requirement already satisfied: ptyprocess; os_name != \"nt\" in /home/student/.local/lib/python3.8/site-packages (from terminado>=0.8.3->notebook>=5.6.0->jupyterthemes) (0.7.0)\n",
      "Requirement already satisfied: debugpy<2.0,>=1.0.0 in /home/student/.local/lib/python3.8/site-packages (from ipykernel->notebook>=5.6.0->jupyterthemes) (1.5.1)\n",
      "Requirement already satisfied: jsonschema!=2.5.0,>=2.4 in /home/student/.local/lib/python3.8/site-packages (from nbformat->notebook>=5.6.0->jupyterthemes) (4.4.0)\n",
      "Requirement already satisfied: argon2-cffi-bindings in /home/student/.local/lib/python3.8/site-packages (from argon2-cffi->notebook>=5.6.0->jupyterthemes) (21.2.0)\n",
      "Requirement already satisfied: testpath in /home/student/.local/lib/python3.8/site-packages (from nbconvert->notebook>=5.6.0->jupyterthemes) (0.6.0)\n",
      "Requirement already satisfied: pandocfilters>=1.4.1 in /home/student/.local/lib/python3.8/site-packages (from nbconvert->notebook>=5.6.0->jupyterthemes) (1.5.0)\n",
      "Requirement already satisfied: jupyterlab-pygments in /home/student/.local/lib/python3.8/site-packages (from nbconvert->notebook>=5.6.0->jupyterthemes) (0.1.2)\n",
      "Requirement already satisfied: mistune<2,>=0.8.1 in /home/student/.local/lib/python3.8/site-packages (from nbconvert->notebook>=5.6.0->jupyterthemes) (0.8.4)\n",
      "Requirement already satisfied: defusedxml in /home/student/.local/lib/python3.8/site-packages (from nbconvert->notebook>=5.6.0->jupyterthemes) (0.7.1)\n",
      "Requirement already satisfied: entrypoints>=0.2.2 in /usr/lib/python3/dist-packages (from nbconvert->notebook>=5.6.0->jupyterthemes) (0.3)\n",
      "Requirement already satisfied: nbclient<0.6.0,>=0.5.0 in /home/student/.local/lib/python3.8/site-packages (from nbconvert->notebook>=5.6.0->jupyterthemes) (0.5.11)\n",
      "Requirement already satisfied: bleach in /home/student/.local/lib/python3.8/site-packages (from nbconvert->notebook>=5.6.0->jupyterthemes) (4.1.0)\n",
      "Requirement already satisfied: importlib-resources>=1.4.0; python_version < \"3.9\" in /home/student/.local/lib/python3.8/site-packages (from jsonschema!=2.5.0,>=2.4->nbformat->notebook>=5.6.0->jupyterthemes) (5.4.0)\n"
     ]
    },
    {
     "name": "stdout",
     "output_type": "stream",
     "text": [
      "Requirement already satisfied: attrs>=17.4.0 in /home/student/.local/lib/python3.8/site-packages (from jsonschema!=2.5.0,>=2.4->nbformat->notebook>=5.6.0->jupyterthemes) (21.4.0)\r\n",
      "Requirement already satisfied: pyrsistent!=0.17.0,!=0.17.1,!=0.17.2,>=0.14.0 in /home/student/.local/lib/python3.8/site-packages (from jsonschema!=2.5.0,>=2.4->nbformat->notebook>=5.6.0->jupyterthemes) (0.18.1)\r\n",
      "Requirement already satisfied: cffi>=1.0.1 in /home/student/.local/lib/python3.8/site-packages (from argon2-cffi-bindings->argon2-cffi->notebook>=5.6.0->jupyterthemes) (1.15.0)\r\n",
      "Requirement already satisfied: webencodings in /home/student/.local/lib/python3.8/site-packages (from bleach->nbconvert->notebook>=5.6.0->jupyterthemes) (0.5.1)\r\n",
      "Requirement already satisfied: zipp>=3.1.0; python_version < \"3.10\" in /home/student/.local/lib/python3.8/site-packages (from importlib-resources>=1.4.0; python_version < \"3.9\"->jsonschema!=2.5.0,>=2.4->nbformat->notebook>=5.6.0->jupyterthemes) (3.7.0)\r\n",
      "Requirement already satisfied: pycparser in /home/student/.local/lib/python3.8/site-packages (from cffi>=1.0.1->argon2-cffi-bindings->argon2-cffi->notebook>=5.6.0->jupyterthemes) (2.21)\r\n"
     ]
    }
   ],
   "source": [
    "!pip install jupyterthemes"
   ]
  },
  {
   "cell_type": "code",
   "execution_count": 13,
   "id": "b8d63b83",
   "metadata": {},
   "outputs": [],
   "source": [
    "!jt -t gruvboxd"
   ]
  },
  {
   "cell_type": "markdown",
   "id": "c87d6dea",
   "metadata": {},
   "source": [
    "# Table of Contents\n",
    "\n",
    "1. [Introduction](#1)\n",
    "    - [Features](#1a)\n",
    "    - [Pros](#1b)\n",
    "    - [Location](#1c)\n",
    "    - [Interpreter](#1d)\n",
    "2. [New Arithmetic](#2)\n",
    "3. [Strings](#3)\n",
    "    - [Quotes](#3a)\n",
    "    - [Literals](#3b)\n",
    "    - [Slicing](#3c)\n",
    "    - [Raw Strings](#3d)\n",
    "4. [Lists](#4)\n",
    "    - [Range](#4a)\n",
    "    - [Match](#4b)\n",
    "5. [Functions](#5)\n",
    "    - [Keyword vs. Positional Arguments](#5a)\n",
    "    - [Star/Double-Star Arguments](#5b)\n",
    "    - [Special Parameters: / and *](#5c)\n",
    "    - [Variadic Parameters](#5d)\n",
    "    - [Lamda Expressions](#5e)\n",
    "    - [Annotations](#5f)\n",
    "***"
   ]
  },
  {
   "cell_type": "markdown",
   "id": "b0bfc8b7",
   "metadata": {},
   "source": [
    "<a id='1'>**Introduction**</a>\n",
    "* <a id='1a'>**Features**</a>\n",
    "    * very-high-level interpreted (no compilation/linking) language\n",
    "* <a id='1b'>**Pros**</a>\n",
    "    * allows programs to be split into modules\n",
    "    * more error checking\n",
    "    * compact + readability\n",
    "        1. __data-types__: express complex operations in a single statement\n",
    "        2. __indentation__: no need for curly-braces\n",
    "        3. __declarations__: not needed for variables/arguments\n",
    "    * extensible\n",
    "        * can add *built in function/module* to the interpreter\n",
    "        * can link python programs to libraries\n",
    "* <a id='1c'>**Location:**</a> ```bash /usr/local/bin/python3```\n",
    "* <a id='1d'>**Interpreter**</a>\n",
    "     - reads + executes commands interactively\n",
    "     - arguments and modules are assigned to the *argv* in the *sys* module\n",
    "         - ```python sys.argv[0]```\n",
    "     - **Invoke (Run):**`\n",
    "         * ```python3 -c command [arg] # executes statement(s) in command```\n",
    "         * ```bash python3 -i -m module [arg]  # executes the source file for module and enters interactive mode```"
   ]
  },
  {
   "cell_type": "markdown",
   "id": "50dfb8e4",
   "metadata": {},
   "source": [
    "<a id='2'>**New Arithmetic**</a>\n",
    "***"
   ]
  },
  {
   "cell_type": "code",
   "execution_count": 21,
   "id": "ce465fae",
   "metadata": {},
   "outputs": [
    {
     "data": {
      "text/plain": [
       "14"
      ]
     },
     "execution_count": 21,
     "metadata": {},
     "output_type": "execute_result"
    }
   ],
   "source": [
    "# Using the '_' keyword\n",
    "\n",
    "3 + 4\n",
    "_ + _"
   ]
  },
  {
   "cell_type": "markdown",
   "id": "fd881e99",
   "metadata": {},
   "source": [
    "<a id='3'>**Strings**</a><br>\n",
    "> are immutable (cannot modify characters)\n",
    "***"
   ]
  },
  {
   "cell_type": "markdown",
   "id": "f2dabf77",
   "metadata": {},
   "source": [
    "<a id='3a'>*Quotes*</a>"
   ]
  },
  {
   "cell_type": "code",
   "execution_count": 2,
   "id": "c49f547b",
   "metadata": {},
   "outputs": [
    {
     "data": {
      "text/plain": [
       "'\"Bob\\'s\\nDrink\"'"
      ]
     },
     "execution_count": 2,
     "metadata": {},
     "output_type": "execute_result"
    }
   ],
   "source": [
    "# \\' escape character is represented inside\n",
    "# double-quotes enclosed in single-quotes\n",
    "'\"Bob\\'s\\nDrink\"'"
   ]
  },
  {
   "cell_type": "code",
   "execution_count": 3,
   "id": "128714a4",
   "metadata": {},
   "outputs": [
    {
     "name": "stdout",
     "output_type": "stream",
     "text": [
      "\"Bob's\n",
      "Drink\"\n",
      "Quote: \"Life is Beautiful\"\n"
     ]
    }
   ],
   "source": [
    "print('\"Bob\\'s\\nDrink\"')              # \\' and \\n is visible\n",
    "print(\"Quote: \\\"Life is Beautiful\\\"\") # escape \\\" character"
   ]
  },
  {
   "cell_type": "markdown",
   "id": "6b2ae36d",
   "metadata": {},
   "source": [
    "<a id='3b'>*Literals*</a>"
   ]
  },
  {
   "cell_type": "code",
   "execution_count": 6,
   "id": "1a0a9f1e",
   "metadata": {},
   "outputs": [
    {
     "name": "stdout",
     "output_type": "stream",
     "text": [
      "Todo:\n",
      "    - clean\n",
      "    - dishes\n"
     ]
    }
   ],
   "source": [
    "# EOL characters are included in \"\"\"...\"\"\" string literals\n",
    "\n",
    "print(\"\"\"\\\n",
    "Todo:\n",
    "    - clean\n",
    "    - dishes\"\"\")"
   ]
  },
  {
   "cell_type": "code",
   "execution_count": 7,
   "id": "b501512a",
   "metadata": {},
   "outputs": [
    {
     "name": "stdout",
     "output_type": "stream",
     "text": [
      "concatenate\n",
      "hello world\n"
     ]
    }
   ],
   "source": [
    "print('con' 'cat' 'enate') # concat string literals\n",
    "a, b = 'hello ', 'world'\n",
    "print(a + b) # concat variable strings"
   ]
  },
  {
   "cell_type": "markdown",
   "id": "00085387",
   "metadata": {},
   "source": [
    "<a id='3c'>*Slicing*</a>"
   ]
  },
  {
   "cell_type": "code",
   "execution_count": 9,
   "id": "34ba35dc",
   "metadata": {},
   "outputs": [
    {
     "name": "stdout",
     "output_type": "stream",
     "text": [
      "01\n",
      "23\n",
      "45\n",
      "6789\n"
     ]
    }
   ],
   "source": [
    "#    +---+---+---+---+---+---+\n",
    "#    | P | y | t | h | o | n |\n",
    "#    +---+---+---+---+---+---+\n",
    "#    0   1   2   3   4   5   6\n",
    "#    6  -5  -4  -3  -2  -1\n",
    "\n",
    "n = '0123456789'\n",
    "print(n[:2])  # sub-string in [0, 2)\n",
    "print(n[2:4]) # sub-string in [2, end)\n",
    "print(n[4:6]) # sub-string in [4, 6)\n",
    "print(n[6:])  # sub-string in [len(word)-2, end)"
   ]
  },
  {
   "cell_type": "code",
   "execution_count": 10,
   "id": "e9c93b09",
   "metadata": {},
   "outputs": [
    {
     "name": "stdout",
     "output_type": "stream",
     "text": [
      "0123456789\n",
      "0123456789\n"
     ]
    }
   ],
   "source": [
    "print(n[:3] + n[3:]) # same string\n",
    "print(n[:])          # same string"
   ]
  },
  {
   "cell_type": "markdown",
   "id": "84104619",
   "metadata": {},
   "source": [
    "<a id='3d'>*Raw Strings*</a>\n",
    "> does not interpret special characters"
   ]
  },
  {
   "cell_type": "code",
   "execution_count": 12,
   "id": "b5c9bd7f",
   "metadata": {},
   "outputs": [
    {
     "name": "stdout",
     "output_type": "stream",
     "text": [
      "~\\home\\student\n"
     ]
    }
   ],
   "source": [
    "print(r'~\\home\\student')"
   ]
  },
  {
   "cell_type": "markdown",
   "id": "4174c172",
   "metadata": {},
   "source": [
    "<a id='4'>**Lists**</a>\n",
    "> are mutable (can modify contents)"
   ]
  },
  {
   "cell_type": "code",
   "execution_count": 13,
   "id": "c8e9dfa9",
   "metadata": {},
   "outputs": [
    {
     "name": "stdout",
     "output_type": "stream",
     "text": [
      "['mot', 'hai', 'ba', 'bon', 'nam']\n"
     ]
    }
   ],
   "source": [
    "viet = ['mot', 'hai', 'ba', '?', '?']\n",
    "viet[3:] = ['bon', 'nam'] # replace values\n",
    "print(viet)"
   ]
  },
  {
   "cell_type": "code",
   "execution_count": 14,
   "id": "94c60c0c",
   "metadata": {},
   "outputs": [
    {
     "name": "stdout",
     "output_type": "stream",
     "text": [
      "[['mot', 'hai', 'ba', 'bon', 'nam'], 'bay', 'tam', 'chin']\n"
     ]
    }
   ],
   "source": [
    "viet_ext = [viet, 'bay', 'tam', 'chin'] # nested-lists\n",
    "print(viet_ext)"
   ]
  },
  {
   "cell_type": "code",
   "execution_count": 15,
   "id": "174c168d",
   "metadata": {},
   "outputs": [
    {
     "name": "stdout",
     "output_type": "stream",
     "text": [
      "[['mot', 'hai', 'ba', 'bon', 'nam'], 'bay', 'tam']\n"
     ]
    }
   ],
   "source": [
    "del viet_ext[-1] # remove item from list\n",
    "print(viet_ext)"
   ]
  },
  {
   "cell_type": "markdown",
   "id": "cfcb399f",
   "metadata": {},
   "source": [
    "<a id='4a'>*Range*</a>"
   ]
  },
  {
   "cell_type": "code",
   "execution_count": 17,
   "id": "ce5c8dfa",
   "metadata": {},
   "outputs": [
    {
     "name": "stdout",
     "output_type": "stream",
     "text": [
      "[0, 2, 4, 6, 8] Sum: 20\n"
     ]
    }
   ],
   "source": [
    "low, high, step = 0, 10, 2\n",
    "even = list(range(low, high, step))\n",
    "print(even,\n",
    "      'Sum:', sum(even))"
   ]
  },
  {
   "cell_type": "code",
   "execution_count": 90,
   "id": "e7e272ed",
   "metadata": {},
   "outputs": [
    {
     "data": {
      "text/plain": [
       "[1, 2, 3, 4, 5, 6, 7, 8, 9]"
      ]
     },
     "execution_count": 90,
     "metadata": {},
     "output_type": "execute_result"
    }
   ],
   "source": [
    "# unpack from list\n",
    "\n",
    "argv = [1, 10]\n",
    "list(range(*argv))"
   ]
  },
  {
   "cell_type": "markdown",
   "id": "fb42c133",
   "metadata": {},
   "source": [
    "<a id='4b'>*Match*</a>"
   ]
  },
  {
   "cell_type": "code",
   "execution_count": null,
   "id": "9b6f4120",
   "metadata": {},
   "outputs": [],
   "source": [
    "class Point:\n",
    "    x: int\n",
    "    y: int\n",
    "\n",
    "match point:\n",
    "    case Point(x, y) if x == y:\n",
    "        print(f\"Y=X at {x}\")\n",
    "    case Point(x, y):\n",
    "        print(f\"Not on the diagonal\")"
   ]
  },
  {
   "cell_type": "code",
   "execution_count": 23,
   "id": "49cff156",
   "metadata": {},
   "outputs": [],
   "source": [
    "from enum import Enum\n",
    "\n",
    "class Color(Enum):\n",
    "    RED = 'red'\n",
    "    GREEN = 'green'\n",
    "    BLUE = 'blue'\n",
    "    \n",
    "match color:\n",
    "    case Color.RED:\n",
    "        print(\"I see red!\")\n",
    "    case Color.GREEN:\n",
    "        print(\"Grass is green\")\n",
    "    case Color.BLUE:\n",
    "        print(\"I'm feeling the blues :(\")"
   ]
  },
  {
   "cell_type": "markdown",
   "id": "06342328",
   "metadata": {},
   "source": [
    "<a id='5'>**Functions**</a>"
   ]
  },
  {
   "cell_type": "code",
   "execution_count": 36,
   "id": "e1b32ae5",
   "metadata": {},
   "outputs": [
    {
     "name": "stdout",
     "output_type": "stream",
     "text": [
      "[1]\n",
      "[1, 2]\n",
      "[1, 2, 3]\n"
     ]
    }
   ],
   "source": [
    "def add(a, L=[]):\n",
    "    L.append(a)\n",
    "    return L\n",
    "\n",
    "print(add(1))\n",
    "print(add(2))\n",
    "print(add(3))"
   ]
  },
  {
   "cell_type": "code",
   "execution_count": 37,
   "id": "6409ef82",
   "metadata": {},
   "outputs": [
    {
     "name": "stdout",
     "output_type": "stream",
     "text": [
      "[1]\n",
      "[2]\n",
      "[3]\n"
     ]
    }
   ],
   "source": [
    "def add(a, L=None):\n",
    "    if L is None:\n",
    "        L = []\n",
    "    L.append(a)\n",
    "    return L\n",
    "\n",
    "print(add(1))\n",
    "print(add(2))\n",
    "print(add(3))"
   ]
  },
  {
   "cell_type": "markdown",
   "id": "af37b5c8",
   "metadata": {},
   "source": [
    "<a id='5a'>*Keyword vs. Positional Arguments*</a>\n",
    "> keyword args must follow positional args in function calls"
   ]
  },
  {
   "cell_type": "code",
   "execution_count": 93,
   "id": "3ce5b53d",
   "metadata": {},
   "outputs": [
    {
     "name": "stdout",
     "output_type": "stream",
     "text": [
      "First -> Rest\n",
      "Last -> Run\n",
      "Middle -> Fight\n"
     ]
    }
   ],
   "source": [
    "def M(state='Last', action=None):\n",
    "    print(f'{state} -> {action}')\n",
    "    \n",
    "M(state='First', action='Rest')   # 2 keyword arguments\n",
    "M('Last', 'Run')                  # 2 posiitonal arguments\n",
    "M('Middle', action='Fight') # 1 keyword and position arguments"
   ]
  },
  {
   "cell_type": "markdown",
   "id": "72755c2b",
   "metadata": {},
   "source": [
    "<a id='5b'>_Star/Double-Star Arguments_</a>\n",
    "> recieves a tuple containing positional arguments <br>\n",
    "> receives a dictionary containing all keyword arguments"
   ]
  },
  {
   "cell_type": "code",
   "execution_count": 91,
   "id": "1667b687",
   "metadata": {},
   "outputs": [
    {
     "name": "stdout",
     "output_type": "stream",
     "text": [
      "1. Pencil\n",
      "2. Paper\n",
      "3. Eraser\n",
      "price : 10\n",
      "manufacturer : Staple\n"
     ]
    }
   ],
   "source": [
    "def store(*items, **db):\n",
    "    for shelf, item in enumerate(items):\n",
    "        print(f'{shelf+1}. {item}')\n",
    "    for attr in db:\n",
    "        print(attr, ':', db[attr])\n",
    "\n",
    "info = {'price': 10, 'manufacturer': 'Staple'}\n",
    "store('Pencil', 'Paper', 'Eraser', **info)"
   ]
  },
  {
   "cell_type": "markdown",
   "id": "4555a52c",
   "metadata": {},
   "source": [
    "<a id='5c'>_Special Parameters: / and *_</a>\n",
    "> '/' -> positional-only <br>\n",
    "> '*' -> keyword-only"
   ]
  },
  {
   "cell_type": "code",
   "execution_count": 6,
   "id": "bd730af4",
   "metadata": {},
   "outputs": [],
   "source": [
    "from random import randrange\n",
    "\n",
    "def restrict(key, /, message, *, state):\n",
    "    pass\n",
    "\n",
    "restrict(5, '<3', state='locked')"
   ]
  },
  {
   "cell_type": "markdown",
   "id": "45925d92",
   "metadata": {},
   "source": [
    "<a id='5d'>*Variadic Arguments*</a>\n",
    "> only keywords"
   ]
  },
  {
   "cell_type": "code",
   "execution_count": 7,
   "id": "fb209ffa",
   "metadata": {},
   "outputs": [
    {
     "data": {
      "text/plain": [
       "'Bob_loves_Amy'"
      ]
     },
     "execution_count": 7,
     "metadata": {},
     "output_type": "execute_result"
    }
   ],
   "source": [
    "def concat(*args, sep=' '):\n",
    "     return sep.join(args)\n",
    "\n",
    "concat('Bob', 'loves', 'Amy', sep='_')"
   ]
  },
  {
   "cell_type": "markdown",
   "id": "4700dad1",
   "metadata": {},
   "source": [
    "<a id='5e'>*Lamda Expressions*</a>\n",
    "> can be used wherever function objects are required <br>\n",
    "> syntactically restricted to a single expression"
   ]
  },
  {
   "cell_type": "code",
   "execution_count": 121,
   "id": "9d6911f5",
   "metadata": {},
   "outputs": [
    {
     "name": "stdout",
     "output_type": "stream",
     "text": [
      "[('Bill', 9), ('Allison', 4), ('Jack', 1)]\n"
     ]
    }
   ],
   "source": [
    "score = [('Jack', 1), ('Bill', 9), ('Allison', 4)]\n",
    "score.sort(key=lambda pos: pos[1], reverse=True)\n",
    "print(score)"
   ]
  },
  {
   "cell_type": "markdown",
   "id": "20cc414e",
   "metadata": {},
   "source": [
    "<a id='5f'>*Annotations*</a>"
   ]
  },
  {
   "cell_type": "code",
   "execution_count": 8,
   "id": "48a63cb1",
   "metadata": {},
   "outputs": [
    {
     "name": "stdout",
     "output_type": "stream",
     "text": [
      "$10...pho bo\n"
     ]
    }
   ],
   "source": [
    "def food(pho: str, thit: str, tien: int) -> None:\n",
    "    print(f'${tien}...{pho} {thit}')\n",
    "    \n",
    "food('pho', 'bo', 10)"
   ]
  }
 ],
 "metadata": {
  "kernelspec": {
   "display_name": "Python 3 (ipykernel)",
   "language": "python",
   "name": "python3"
  },
  "language_info": {
   "codemirror_mode": {
    "name": "ipython",
    "version": 3
   },
   "file_extension": ".py",
   "mimetype": "text/x-python",
   "name": "python",
   "nbconvert_exporter": "python",
   "pygments_lexer": "ipython3",
   "version": "3.8.10"
  }
 },
 "nbformat": 4,
 "nbformat_minor": 5
}
