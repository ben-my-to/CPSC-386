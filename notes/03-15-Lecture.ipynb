{
 "cells": [
  {
   "cell_type": "code",
   "execution_count": 1,
   "id": "8d5b4074",
   "metadata": {},
   "outputs": [],
   "source": [
    "# 03-15-22 Lecture"
   ]
  },
  {
   "cell_type": "code",
   "execution_count": 2,
   "id": "7e98b8b5",
   "metadata": {},
   "outputs": [],
   "source": [
    "from collections import namedtuple"
   ]
  },
  {
   "cell_type": "code",
   "execution_count": 3,
   "id": "e4d47dfe",
   "metadata": {},
   "outputs": [],
   "source": [
    "# print out document"
   ]
  },
  {
   "cell_type": "code",
   "execution_count": 5,
   "id": "cdb5a268",
   "metadata": {},
   "outputs": [],
   "source": [
    "# insurance if dealer has an ace or 10 up\n",
    "# push = tie\n",
    "# dealer plays with 'perfect information'"
   ]
  },
  {
   "cell_type": "code",
   "execution_count": 6,
   "id": "c9af2cab",
   "metadata": {},
   "outputs": [],
   "source": [
    "#___________________________________________________"
   ]
  },
  {
   "cell_type": "code",
   "execution_count": 54,
   "id": "9970f3a4",
   "metadata": {
    "scrolled": true
   },
   "outputs": [
    {
     "name": "stdout",
     "output_type": "stream",
     "text": [
      "208\r\n",
      "104\r\n",
      "104\r\n",
      "Ace of Clubs, 2 of Clubs, 3 of Clubs, 4 of Clubs, 5 of Clubs, 6 of Clubs, 7 of Clubs, 8 of Clubs, 9 of Clubs, 10 of Clubs, Jack of Clubs, Queen of Clubs, King of Clubs, Ace of Hearts, 2 of Hearts, 3 of Hearts, 4 of Hearts, 5 of Hearts, 6 of Hearts, 7 of Hearts, 8 of Hearts, 9 of Hearts, 10 of Hearts, Jack of Hearts, Queen of Hearts, King of Hearts, Ace of Spades, 2 of Spades, 3 of Spades, 4 of Spades, 5 of Spades, 6 of Spades, 7 of Spades, 8 of Spades, 9 of Spades, 10 of Spades, Jack of Spades, Queen of Spades, King of Spades, Ace of Diamonds, 2 of Diamonds, 3 of Diamonds, 4 of Diamonds, 5 of Diamonds, 6 of Diamonds, 7 of Diamonds, 8 of Diamonds, 9 of Diamonds, 10 of Diamonds, Jack of Diamonds, Queen of Diamonds, King of Diamonds\r\n",
      "Ace of Clubs, 2 of Clubs, 3 of Clubs, 4 of Clubs, 5 of Clubs, 6 of Clubs, 7 of Clubs, 8 of Clubs, 9 of Clubs, 10 of Clubs, Jack of Clubs, Queen of Clubs, King of Clubs, Ace of Hearts, 2 of Hearts, 3 of Hearts, 4 of Hearts, 5 of Hearts, 6 of Hearts, 7 of Hearts, 8 of Hearts, 9 of Hearts, 10 of Hearts, Jack of Hearts, Queen of Hearts, King of Hearts, Ace of Spades, 2 of Spades, 3 of Spades, 4 of Spades, 5 of Spades, 6 of Spades, 7 of Spades, 8 of Spades, 9 of Spades, 10 of Spades, Jack of Spades, Queen of Spades, King of Spades, Ace of Diamonds, 2 of Diamonds, 3 of Diamonds, 4 of Diamonds, 5 of Diamonds, 6 of Diamonds, 7 of Diamonds, 8 of Diamonds, 9 of Diamonds, 10 of Diamonds, Jack of Diamonds, Queen of Diamonds, King of Diamonds\r\n",
      "1\r\n",
      "2\r\n",
      "3\r\n",
      "4\r\n",
      "5\r\n",
      "6\r\n",
      "7\r\n",
      "8\r\n",
      "9\r\n",
      "10\r\n",
      "11\r\n",
      "12\r\n",
      "13\r\n",
      "1\r\n",
      "2\r\n",
      "3\r\n",
      "4\r\n",
      "5\r\n",
      "6\r\n",
      "7\r\n",
      "8\r\n",
      "9\r\n",
      "10\r\n",
      "11\r\n",
      "12\r\n",
      "13\r\n",
      "1\r\n",
      "2\r\n",
      "3\r\n",
      "4\r\n",
      "5\r\n",
      "6\r\n",
      "7\r\n",
      "8\r\n",
      "9\r\n",
      "10\r\n",
      "11\r\n",
      "12\r\n",
      "13\r\n",
      "1\r\n",
      "2\r\n",
      "3\r\n",
      "4\r\n",
      "5\r\n",
      "6\r\n",
      "7\r\n",
      "8\r\n",
      "9\r\n",
      "10\r\n",
      "11\r\n",
      "12\r\n",
      "13\r\n"
     ]
    }
   ],
   "source": [
    "import blackjack\n",
    "!python3 blackjack.py"
   ]
  },
  {
   "cell_type": "code",
   "execution_count": 48,
   "id": "65297431",
   "metadata": {},
   "outputs": [
    {
     "name": "stdout",
     "output_type": "stream",
     "text": [
      "['Ace', '2', '3', '4', '5', '6', '7', '8', '9', '10', 'Jack', 'Queen', 'King']\n"
     ]
    }
   ],
   "source": [
    "ranks = ['Ace'] + [str(x) for x in range(2, 11)] + \\\n",
    "    'Jack Queen King'.split()\n",
    "\n",
    "print(ranks)"
   ]
  },
  {
   "cell_type": "code",
   "execution_count": 28,
   "id": "3880dad8",
   "metadata": {},
   "outputs": [
    {
     "data": {
      "text/plain": [
       "['cat green',\n",
       " 'cat red',\n",
       " 'cat orange',\n",
       " 'dog green',\n",
       " 'dog red',\n",
       " 'dog orange',\n",
       " 'fish green',\n",
       " 'fish red',\n",
       " 'fish orange']"
      ]
     },
     "execution_count": 28,
     "metadata": {},
     "output_type": "execute_result"
    }
   ],
   "source": [
    "[a + ' ' + b for a in 'cat dog fish'.split() \\\n",
    "    for b in 'green red orange'.split()]"
   ]
  },
  {
   "cell_type": "code",
   "execution_count": 37,
   "id": "8efc3032",
   "metadata": {},
   "outputs": [
    {
     "data": {
      "text/plain": [
       "[4, 5, 6, 1, 2, 3]"
      ]
     },
     "execution_count": 37,
     "metadata": {},
     "output_type": "execute_result"
    }
   ],
   "source": [
    "l = [1, 2, 3]\n",
    "m = [4, 5, 6]\n",
    "l + m\n",
    "m + l"
   ]
  },
  {
   "cell_type": "code",
   "execution_count": null,
   "id": "ed30ac10",
   "metadata": {},
   "outputs": [],
   "source": []
  }
 ],
 "metadata": {
  "kernelspec": {
   "display_name": "Python 3 (ipykernel)",
   "language": "python",
   "name": "python3"
  },
  "language_info": {
   "codemirror_mode": {
    "name": "ipython",
    "version": 3
   },
   "file_extension": ".py",
   "mimetype": "text/x-python",
   "name": "python",
   "nbconvert_exporter": "python",
   "pygments_lexer": "ipython3",
   "version": "3.8.10"
  }
 },
 "nbformat": 4,
 "nbformat_minor": 5
}
